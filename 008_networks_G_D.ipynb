{
 "cells": [
  {
   "cell_type": "code",
   "execution_count": 4,
   "metadata": {},
   "outputs": [],
   "source": [
    "import torch\n",
    "import torch.nn as nn\n",
    "from torch.nn import init\n",
    "import functools\n",
    "from torchsummary import summary"
   ]
  },
  {
   "cell_type": "code",
   "execution_count": 5,
   "metadata": {},
   "outputs": [],
   "source": [
    "device = torch.device(\"cuda\" if torch.cuda.is_available() else \"cpu\") # PyTorch v0.4.0"
   ]
  },
  {
   "cell_type": "markdown",
   "metadata": {},
   "source": [
    "## Generators"
   ]
  },
  {
   "cell_type": "code",
   "execution_count": 6,
   "metadata": {},
   "outputs": [],
   "source": [
    "input_nc = 3\n",
    "output_nc = 3\n",
    "ngf = 64\n",
    "norm_layer=nn.BatchNorm2d\n",
    "use_dropout=False"
   ]
  },
  {
   "cell_type": "code",
   "execution_count": 3,
   "metadata": {},
   "outputs": [],
   "source": [
    "from models.networks.generator.resnet import ResnetGenerator"
   ]
  },
  {
   "cell_type": "code",
   "execution_count": 4,
   "metadata": {},
   "outputs": [],
   "source": []
  },
  {
   "cell_type": "code",
   "execution_count": 5,
   "metadata": {},
   "outputs": [],
   "source": [
    "# resnet_9blocks\n",
    "net = ResnetGenerator(input_nc, output_nc, ngf, norm_layer=norm_layer, use_dropout=use_dropout, n_blocks=9)"
   ]
  },
  {
   "cell_type": "code",
   "execution_count": 5,
   "metadata": {
    "collapsed": true,
    "jupyter": {
     "outputs_hidden": true
    }
   },
   "outputs": [
    {
     "name": "stdout",
     "output_type": "stream",
     "text": [
      "ResnetGenerator(\n",
      "  (model): Sequential(\n",
      "    (0): ReflectionPad2d((3, 3, 3, 3))\n",
      "    (1): Conv2d(3, 64, kernel_size=(7, 7), stride=(1, 1), bias=False)\n",
      "    (2): BatchNorm2d(64, eps=1e-05, momentum=0.1, affine=True, track_running_stats=True)\n",
      "    (3): ReLU(inplace=True)\n",
      "    (4): Conv2d(64, 128, kernel_size=(3, 3), stride=(2, 2), padding=(1, 1), bias=False)\n",
      "    (5): BatchNorm2d(128, eps=1e-05, momentum=0.1, affine=True, track_running_stats=True)\n",
      "    (6): ReLU(inplace=True)\n",
      "    (7): Conv2d(128, 256, kernel_size=(3, 3), stride=(2, 2), padding=(1, 1), bias=False)\n",
      "    (8): BatchNorm2d(256, eps=1e-05, momentum=0.1, affine=True, track_running_stats=True)\n",
      "    (9): ReLU(inplace=True)\n",
      "    (10): ResnetBlock(\n",
      "      (conv_block): Sequential(\n",
      "        (0): ReflectionPad2d((1, 1, 1, 1))\n",
      "        (1): Conv2d(256, 256, kernel_size=(3, 3), stride=(1, 1), bias=False)\n",
      "        (2): BatchNorm2d(256, eps=1e-05, momentum=0.1, affine=True, track_running_stats=True)\n",
      "        (3): ReLU(inplace=True)\n",
      "        (4): ReflectionPad2d((1, 1, 1, 1))\n",
      "        (5): Conv2d(256, 256, kernel_size=(3, 3), stride=(1, 1), bias=False)\n",
      "        (6): BatchNorm2d(256, eps=1e-05, momentum=0.1, affine=True, track_running_stats=True)\n",
      "      )\n",
      "    )\n",
      "    (11): ResnetBlock(\n",
      "      (conv_block): Sequential(\n",
      "        (0): ReflectionPad2d((1, 1, 1, 1))\n",
      "        (1): Conv2d(256, 256, kernel_size=(3, 3), stride=(1, 1), bias=False)\n",
      "        (2): BatchNorm2d(256, eps=1e-05, momentum=0.1, affine=True, track_running_stats=True)\n",
      "        (3): ReLU(inplace=True)\n",
      "        (4): ReflectionPad2d((1, 1, 1, 1))\n",
      "        (5): Conv2d(256, 256, kernel_size=(3, 3), stride=(1, 1), bias=False)\n",
      "        (6): BatchNorm2d(256, eps=1e-05, momentum=0.1, affine=True, track_running_stats=True)\n",
      "      )\n",
      "    )\n",
      "    (12): ResnetBlock(\n",
      "      (conv_block): Sequential(\n",
      "        (0): ReflectionPad2d((1, 1, 1, 1))\n",
      "        (1): Conv2d(256, 256, kernel_size=(3, 3), stride=(1, 1), bias=False)\n",
      "        (2): BatchNorm2d(256, eps=1e-05, momentum=0.1, affine=True, track_running_stats=True)\n",
      "        (3): ReLU(inplace=True)\n",
      "        (4): ReflectionPad2d((1, 1, 1, 1))\n",
      "        (5): Conv2d(256, 256, kernel_size=(3, 3), stride=(1, 1), bias=False)\n",
      "        (6): BatchNorm2d(256, eps=1e-05, momentum=0.1, affine=True, track_running_stats=True)\n",
      "      )\n",
      "    )\n",
      "    (13): ResnetBlock(\n",
      "      (conv_block): Sequential(\n",
      "        (0): ReflectionPad2d((1, 1, 1, 1))\n",
      "        (1): Conv2d(256, 256, kernel_size=(3, 3), stride=(1, 1), bias=False)\n",
      "        (2): BatchNorm2d(256, eps=1e-05, momentum=0.1, affine=True, track_running_stats=True)\n",
      "        (3): ReLU(inplace=True)\n",
      "        (4): ReflectionPad2d((1, 1, 1, 1))\n",
      "        (5): Conv2d(256, 256, kernel_size=(3, 3), stride=(1, 1), bias=False)\n",
      "        (6): BatchNorm2d(256, eps=1e-05, momentum=0.1, affine=True, track_running_stats=True)\n",
      "      )\n",
      "    )\n",
      "    (14): ResnetBlock(\n",
      "      (conv_block): Sequential(\n",
      "        (0): ReflectionPad2d((1, 1, 1, 1))\n",
      "        (1): Conv2d(256, 256, kernel_size=(3, 3), stride=(1, 1), bias=False)\n",
      "        (2): BatchNorm2d(256, eps=1e-05, momentum=0.1, affine=True, track_running_stats=True)\n",
      "        (3): ReLU(inplace=True)\n",
      "        (4): ReflectionPad2d((1, 1, 1, 1))\n",
      "        (5): Conv2d(256, 256, kernel_size=(3, 3), stride=(1, 1), bias=False)\n",
      "        (6): BatchNorm2d(256, eps=1e-05, momentum=0.1, affine=True, track_running_stats=True)\n",
      "      )\n",
      "    )\n",
      "    (15): ResnetBlock(\n",
      "      (conv_block): Sequential(\n",
      "        (0): ReflectionPad2d((1, 1, 1, 1))\n",
      "        (1): Conv2d(256, 256, kernel_size=(3, 3), stride=(1, 1), bias=False)\n",
      "        (2): BatchNorm2d(256, eps=1e-05, momentum=0.1, affine=True, track_running_stats=True)\n",
      "        (3): ReLU(inplace=True)\n",
      "        (4): ReflectionPad2d((1, 1, 1, 1))\n",
      "        (5): Conv2d(256, 256, kernel_size=(3, 3), stride=(1, 1), bias=False)\n",
      "        (6): BatchNorm2d(256, eps=1e-05, momentum=0.1, affine=True, track_running_stats=True)\n",
      "      )\n",
      "    )\n",
      "    (16): ResnetBlock(\n",
      "      (conv_block): Sequential(\n",
      "        (0): ReflectionPad2d((1, 1, 1, 1))\n",
      "        (1): Conv2d(256, 256, kernel_size=(3, 3), stride=(1, 1), bias=False)\n",
      "        (2): BatchNorm2d(256, eps=1e-05, momentum=0.1, affine=True, track_running_stats=True)\n",
      "        (3): ReLU(inplace=True)\n",
      "        (4): ReflectionPad2d((1, 1, 1, 1))\n",
      "        (5): Conv2d(256, 256, kernel_size=(3, 3), stride=(1, 1), bias=False)\n",
      "        (6): BatchNorm2d(256, eps=1e-05, momentum=0.1, affine=True, track_running_stats=True)\n",
      "      )\n",
      "    )\n",
      "    (17): ResnetBlock(\n",
      "      (conv_block): Sequential(\n",
      "        (0): ReflectionPad2d((1, 1, 1, 1))\n",
      "        (1): Conv2d(256, 256, kernel_size=(3, 3), stride=(1, 1), bias=False)\n",
      "        (2): BatchNorm2d(256, eps=1e-05, momentum=0.1, affine=True, track_running_stats=True)\n",
      "        (3): ReLU(inplace=True)\n",
      "        (4): ReflectionPad2d((1, 1, 1, 1))\n",
      "        (5): Conv2d(256, 256, kernel_size=(3, 3), stride=(1, 1), bias=False)\n",
      "        (6): BatchNorm2d(256, eps=1e-05, momentum=0.1, affine=True, track_running_stats=True)\n",
      "      )\n",
      "    )\n",
      "    (18): ResnetBlock(\n",
      "      (conv_block): Sequential(\n",
      "        (0): ReflectionPad2d((1, 1, 1, 1))\n",
      "        (1): Conv2d(256, 256, kernel_size=(3, 3), stride=(1, 1), bias=False)\n",
      "        (2): BatchNorm2d(256, eps=1e-05, momentum=0.1, affine=True, track_running_stats=True)\n",
      "        (3): ReLU(inplace=True)\n",
      "        (4): ReflectionPad2d((1, 1, 1, 1))\n",
      "        (5): Conv2d(256, 256, kernel_size=(3, 3), stride=(1, 1), bias=False)\n",
      "        (6): BatchNorm2d(256, eps=1e-05, momentum=0.1, affine=True, track_running_stats=True)\n",
      "      )\n",
      "    )\n",
      "    (19): ConvTranspose2d(256, 128, kernel_size=(3, 3), stride=(2, 2), padding=(1, 1), output_padding=(1, 1), bias=False)\n",
      "    (20): BatchNorm2d(128, eps=1e-05, momentum=0.1, affine=True, track_running_stats=True)\n",
      "    (21): ReLU(inplace=True)\n",
      "    (22): ConvTranspose2d(128, 64, kernel_size=(3, 3), stride=(2, 2), padding=(1, 1), output_padding=(1, 1), bias=False)\n",
      "    (23): BatchNorm2d(64, eps=1e-05, momentum=0.1, affine=True, track_running_stats=True)\n",
      "    (24): ReLU(inplace=True)\n",
      "    (25): ReflectionPad2d((3, 3, 3, 3))\n",
      "    (26): Conv2d(64, 3, kernel_size=(7, 7), stride=(1, 1))\n",
      "    (27): Tanh()\n",
      "  )\n",
      ")\n"
     ]
    }
   ],
   "source": [
    "print(net)"
   ]
  },
  {
   "cell_type": "code",
   "execution_count": 6,
   "metadata": {},
   "outputs": [
    {
     "name": "stdout",
     "output_type": "stream",
     "text": [
      "----------------------------------------------------------------\n",
      "        Layer (type)               Output Shape         Param #\n",
      "================================================================\n",
      "   ReflectionPad2d-1          [-1, 3, 262, 262]               0\n",
      "            Conv2d-2         [-1, 64, 256, 256]           9,408\n",
      "       BatchNorm2d-3         [-1, 64, 256, 256]             128\n",
      "              ReLU-4         [-1, 64, 256, 256]               0\n",
      "            Conv2d-5        [-1, 128, 128, 128]          73,728\n",
      "       BatchNorm2d-6        [-1, 128, 128, 128]             256\n",
      "              ReLU-7        [-1, 128, 128, 128]               0\n",
      "            Conv2d-8          [-1, 256, 64, 64]         294,912\n",
      "       BatchNorm2d-9          [-1, 256, 64, 64]             512\n",
      "             ReLU-10          [-1, 256, 64, 64]               0\n",
      "  ReflectionPad2d-11          [-1, 256, 66, 66]               0\n",
      "           Conv2d-12          [-1, 256, 64, 64]         589,824\n",
      "      BatchNorm2d-13          [-1, 256, 64, 64]             512\n",
      "             ReLU-14          [-1, 256, 64, 64]               0\n",
      "  ReflectionPad2d-15          [-1, 256, 66, 66]               0\n",
      "           Conv2d-16          [-1, 256, 64, 64]         589,824\n",
      "      BatchNorm2d-17          [-1, 256, 64, 64]             512\n",
      "      ResnetBlock-18          [-1, 256, 64, 64]               0\n",
      "  ReflectionPad2d-19          [-1, 256, 66, 66]               0\n",
      "           Conv2d-20          [-1, 256, 64, 64]         589,824\n",
      "      BatchNorm2d-21          [-1, 256, 64, 64]             512\n",
      "             ReLU-22          [-1, 256, 64, 64]               0\n",
      "  ReflectionPad2d-23          [-1, 256, 66, 66]               0\n",
      "           Conv2d-24          [-1, 256, 64, 64]         589,824\n",
      "      BatchNorm2d-25          [-1, 256, 64, 64]             512\n",
      "      ResnetBlock-26          [-1, 256, 64, 64]               0\n",
      "  ReflectionPad2d-27          [-1, 256, 66, 66]               0\n",
      "           Conv2d-28          [-1, 256, 64, 64]         589,824\n",
      "      BatchNorm2d-29          [-1, 256, 64, 64]             512\n",
      "             ReLU-30          [-1, 256, 64, 64]               0\n",
      "  ReflectionPad2d-31          [-1, 256, 66, 66]               0\n",
      "           Conv2d-32          [-1, 256, 64, 64]         589,824\n",
      "      BatchNorm2d-33          [-1, 256, 64, 64]             512\n",
      "      ResnetBlock-34          [-1, 256, 64, 64]               0\n",
      "  ReflectionPad2d-35          [-1, 256, 66, 66]               0\n",
      "           Conv2d-36          [-1, 256, 64, 64]         589,824\n",
      "      BatchNorm2d-37          [-1, 256, 64, 64]             512\n",
      "             ReLU-38          [-1, 256, 64, 64]               0\n",
      "  ReflectionPad2d-39          [-1, 256, 66, 66]               0\n",
      "           Conv2d-40          [-1, 256, 64, 64]         589,824\n",
      "      BatchNorm2d-41          [-1, 256, 64, 64]             512\n",
      "      ResnetBlock-42          [-1, 256, 64, 64]               0\n",
      "  ReflectionPad2d-43          [-1, 256, 66, 66]               0\n",
      "           Conv2d-44          [-1, 256, 64, 64]         589,824\n",
      "      BatchNorm2d-45          [-1, 256, 64, 64]             512\n",
      "             ReLU-46          [-1, 256, 64, 64]               0\n",
      "  ReflectionPad2d-47          [-1, 256, 66, 66]               0\n",
      "           Conv2d-48          [-1, 256, 64, 64]         589,824\n",
      "      BatchNorm2d-49          [-1, 256, 64, 64]             512\n",
      "      ResnetBlock-50          [-1, 256, 64, 64]               0\n",
      "  ReflectionPad2d-51          [-1, 256, 66, 66]               0\n",
      "           Conv2d-52          [-1, 256, 64, 64]         589,824\n",
      "      BatchNorm2d-53          [-1, 256, 64, 64]             512\n",
      "             ReLU-54          [-1, 256, 64, 64]               0\n",
      "  ReflectionPad2d-55          [-1, 256, 66, 66]               0\n",
      "           Conv2d-56          [-1, 256, 64, 64]         589,824\n",
      "      BatchNorm2d-57          [-1, 256, 64, 64]             512\n",
      "      ResnetBlock-58          [-1, 256, 64, 64]               0\n",
      "  ReflectionPad2d-59          [-1, 256, 66, 66]               0\n",
      "           Conv2d-60          [-1, 256, 64, 64]         589,824\n",
      "      BatchNorm2d-61          [-1, 256, 64, 64]             512\n",
      "             ReLU-62          [-1, 256, 64, 64]               0\n",
      "  ReflectionPad2d-63          [-1, 256, 66, 66]               0\n",
      "           Conv2d-64          [-1, 256, 64, 64]         589,824\n",
      "      BatchNorm2d-65          [-1, 256, 64, 64]             512\n",
      "      ResnetBlock-66          [-1, 256, 64, 64]               0\n",
      "  ReflectionPad2d-67          [-1, 256, 66, 66]               0\n",
      "           Conv2d-68          [-1, 256, 64, 64]         589,824\n",
      "      BatchNorm2d-69          [-1, 256, 64, 64]             512\n",
      "             ReLU-70          [-1, 256, 64, 64]               0\n",
      "  ReflectionPad2d-71          [-1, 256, 66, 66]               0\n",
      "           Conv2d-72          [-1, 256, 64, 64]         589,824\n",
      "      BatchNorm2d-73          [-1, 256, 64, 64]             512\n",
      "      ResnetBlock-74          [-1, 256, 64, 64]               0\n",
      "  ReflectionPad2d-75          [-1, 256, 66, 66]               0\n",
      "           Conv2d-76          [-1, 256, 64, 64]         589,824\n",
      "      BatchNorm2d-77          [-1, 256, 64, 64]             512\n",
      "             ReLU-78          [-1, 256, 64, 64]               0\n",
      "  ReflectionPad2d-79          [-1, 256, 66, 66]               0\n",
      "           Conv2d-80          [-1, 256, 64, 64]         589,824\n",
      "      BatchNorm2d-81          [-1, 256, 64, 64]             512\n",
      "      ResnetBlock-82          [-1, 256, 64, 64]               0\n",
      "  ConvTranspose2d-83        [-1, 128, 128, 128]         294,912\n",
      "      BatchNorm2d-84        [-1, 128, 128, 128]             256\n",
      "             ReLU-85        [-1, 128, 128, 128]               0\n",
      "  ConvTranspose2d-86         [-1, 64, 256, 256]          73,728\n",
      "      BatchNorm2d-87         [-1, 64, 256, 256]             128\n",
      "             ReLU-88         [-1, 64, 256, 256]               0\n",
      "  ReflectionPad2d-89         [-1, 64, 262, 262]               0\n",
      "           Conv2d-90          [-1, 3, 256, 256]           9,411\n",
      "             Tanh-91          [-1, 3, 256, 256]               0\n",
      "================================================================\n",
      "Total params: 11,383,427\n",
      "Trainable params: 11,383,427\n",
      "Non-trainable params: 0\n",
      "----------------------------------------------------------------\n",
      "Input size (MB): 0.75\n",
      "Forward/backward pass size (MB): 935.23\n",
      "Params size (MB): 43.42\n",
      "Estimated Total Size (MB): 979.40\n",
      "----------------------------------------------------------------\n"
     ]
    }
   ],
   "source": [
    "net = net.to(device)\n",
    "summary(net, input_size=(3, 256, 256))"
   ]
  },
  {
   "cell_type": "code",
   "execution_count": 13,
   "metadata": {},
   "outputs": [],
   "source": [
    "# resnet_6blocks\n",
    "net = ResnetGenerator(input_nc, output_nc, ngf, norm_layer=norm_layer, use_dropout=use_dropout, n_blocks=6)"
   ]
  },
  {
   "cell_type": "code",
   "execution_count": 14,
   "metadata": {},
   "outputs": [
    {
     "name": "stdout",
     "output_type": "stream",
     "text": [
      "----------------------------------------------------------------\n",
      "        Layer (type)               Output Shape         Param #\n",
      "================================================================\n",
      "   ReflectionPad2d-1          [-1, 3, 262, 262]               0\n",
      "            Conv2d-2         [-1, 64, 256, 256]           9,408\n",
      "       BatchNorm2d-3         [-1, 64, 256, 256]             128\n",
      "              ReLU-4         [-1, 64, 256, 256]               0\n",
      "            Conv2d-5        [-1, 128, 128, 128]          73,728\n",
      "       BatchNorm2d-6        [-1, 128, 128, 128]             256\n",
      "              ReLU-7        [-1, 128, 128, 128]               0\n",
      "            Conv2d-8          [-1, 256, 64, 64]         294,912\n",
      "       BatchNorm2d-9          [-1, 256, 64, 64]             512\n",
      "             ReLU-10          [-1, 256, 64, 64]               0\n",
      "  ReflectionPad2d-11          [-1, 256, 66, 66]               0\n",
      "           Conv2d-12          [-1, 256, 64, 64]         589,824\n",
      "      BatchNorm2d-13          [-1, 256, 64, 64]             512\n",
      "             ReLU-14          [-1, 256, 64, 64]               0\n",
      "  ReflectionPad2d-15          [-1, 256, 66, 66]               0\n",
      "           Conv2d-16          [-1, 256, 64, 64]         589,824\n",
      "      BatchNorm2d-17          [-1, 256, 64, 64]             512\n",
      "      ResnetBlock-18          [-1, 256, 64, 64]               0\n",
      "  ReflectionPad2d-19          [-1, 256, 66, 66]               0\n",
      "           Conv2d-20          [-1, 256, 64, 64]         589,824\n",
      "      BatchNorm2d-21          [-1, 256, 64, 64]             512\n",
      "             ReLU-22          [-1, 256, 64, 64]               0\n",
      "  ReflectionPad2d-23          [-1, 256, 66, 66]               0\n",
      "           Conv2d-24          [-1, 256, 64, 64]         589,824\n",
      "      BatchNorm2d-25          [-1, 256, 64, 64]             512\n",
      "      ResnetBlock-26          [-1, 256, 64, 64]               0\n",
      "  ReflectionPad2d-27          [-1, 256, 66, 66]               0\n",
      "           Conv2d-28          [-1, 256, 64, 64]         589,824\n",
      "      BatchNorm2d-29          [-1, 256, 64, 64]             512\n",
      "             ReLU-30          [-1, 256, 64, 64]               0\n",
      "  ReflectionPad2d-31          [-1, 256, 66, 66]               0\n",
      "           Conv2d-32          [-1, 256, 64, 64]         589,824\n",
      "      BatchNorm2d-33          [-1, 256, 64, 64]             512\n",
      "      ResnetBlock-34          [-1, 256, 64, 64]               0\n",
      "  ReflectionPad2d-35          [-1, 256, 66, 66]               0\n",
      "           Conv2d-36          [-1, 256, 64, 64]         589,824\n",
      "      BatchNorm2d-37          [-1, 256, 64, 64]             512\n",
      "             ReLU-38          [-1, 256, 64, 64]               0\n",
      "  ReflectionPad2d-39          [-1, 256, 66, 66]               0\n",
      "           Conv2d-40          [-1, 256, 64, 64]         589,824\n",
      "      BatchNorm2d-41          [-1, 256, 64, 64]             512\n",
      "      ResnetBlock-42          [-1, 256, 64, 64]               0\n",
      "  ReflectionPad2d-43          [-1, 256, 66, 66]               0\n",
      "           Conv2d-44          [-1, 256, 64, 64]         589,824\n",
      "      BatchNorm2d-45          [-1, 256, 64, 64]             512\n",
      "             ReLU-46          [-1, 256, 64, 64]               0\n",
      "  ReflectionPad2d-47          [-1, 256, 66, 66]               0\n",
      "           Conv2d-48          [-1, 256, 64, 64]         589,824\n",
      "      BatchNorm2d-49          [-1, 256, 64, 64]             512\n",
      "      ResnetBlock-50          [-1, 256, 64, 64]               0\n",
      "  ReflectionPad2d-51          [-1, 256, 66, 66]               0\n",
      "           Conv2d-52          [-1, 256, 64, 64]         589,824\n",
      "      BatchNorm2d-53          [-1, 256, 64, 64]             512\n",
      "             ReLU-54          [-1, 256, 64, 64]               0\n",
      "  ReflectionPad2d-55          [-1, 256, 66, 66]               0\n",
      "           Conv2d-56          [-1, 256, 64, 64]         589,824\n",
      "      BatchNorm2d-57          [-1, 256, 64, 64]             512\n",
      "      ResnetBlock-58          [-1, 256, 64, 64]               0\n",
      "  ConvTranspose2d-59        [-1, 128, 128, 128]         294,912\n",
      "      BatchNorm2d-60        [-1, 128, 128, 128]             256\n",
      "             ReLU-61        [-1, 128, 128, 128]               0\n",
      "  ConvTranspose2d-62         [-1, 64, 256, 256]          73,728\n",
      "      BatchNorm2d-63         [-1, 64, 256, 256]             128\n",
      "             ReLU-64         [-1, 64, 256, 256]               0\n",
      "  ReflectionPad2d-65         [-1, 64, 262, 262]               0\n",
      "           Conv2d-66          [-1, 3, 256, 256]           9,411\n",
      "             Tanh-67          [-1, 3, 256, 256]               0\n",
      "================================================================\n",
      "Total params: 7,841,411\n",
      "Trainable params: 7,841,411\n",
      "Non-trainable params: 0\n",
      "----------------------------------------------------------------\n",
      "Input size (MB): 0.75\n",
      "Forward/backward pass size (MB): 740.18\n",
      "Params size (MB): 29.91\n",
      "Estimated Total Size (MB): 770.85\n",
      "----------------------------------------------------------------\n"
     ]
    }
   ],
   "source": [
    "net = net.to(device)\n",
    "summary(net, input_size=(3, 256, 256))"
   ]
  },
  {
   "cell_type": "code",
   "execution_count": 7,
   "metadata": {},
   "outputs": [],
   "source": [
    "from models.networks.generator.unet import UnetGenerator"
   ]
  },
  {
   "cell_type": "code",
   "execution_count": 8,
   "metadata": {},
   "outputs": [],
   "source": [
    "# unet_128\n",
    "net = UnetGenerator(input_nc, output_nc, 7, ngf, norm_layer=norm_layer, use_dropout=use_dropout)"
   ]
  },
  {
   "cell_type": "code",
   "execution_count": 9,
   "metadata": {
    "collapsed": true,
    "jupyter": {
     "outputs_hidden": true
    }
   },
   "outputs": [
    {
     "name": "stdout",
     "output_type": "stream",
     "text": [
      "----------------------------------------------------------------\n",
      "        Layer (type)               Output Shape         Param #\n",
      "================================================================\n",
      "            Conv2d-1         [-1, 64, 128, 128]           3,072\n",
      "         LeakyReLU-2         [-1, 64, 128, 128]               0\n",
      "            Conv2d-3          [-1, 128, 64, 64]         131,072\n",
      "       BatchNorm2d-4          [-1, 128, 64, 64]             256\n",
      "         LeakyReLU-5          [-1, 128, 64, 64]               0\n",
      "            Conv2d-6          [-1, 256, 32, 32]         524,288\n",
      "       BatchNorm2d-7          [-1, 256, 32, 32]             512\n",
      "         LeakyReLU-8          [-1, 256, 32, 32]               0\n",
      "            Conv2d-9          [-1, 512, 16, 16]       2,097,152\n",
      "      BatchNorm2d-10          [-1, 512, 16, 16]           1,024\n",
      "        LeakyReLU-11          [-1, 512, 16, 16]               0\n",
      "           Conv2d-12            [-1, 512, 8, 8]       4,194,304\n",
      "      BatchNorm2d-13            [-1, 512, 8, 8]           1,024\n",
      "        LeakyReLU-14            [-1, 512, 8, 8]               0\n",
      "           Conv2d-15            [-1, 512, 4, 4]       4,194,304\n",
      "      BatchNorm2d-16            [-1, 512, 4, 4]           1,024\n",
      "        LeakyReLU-17            [-1, 512, 4, 4]               0\n",
      "           Conv2d-18            [-1, 512, 2, 2]       4,194,304\n",
      "             ReLU-19            [-1, 512, 2, 2]               0\n",
      "  ConvTranspose2d-20            [-1, 512, 4, 4]       4,194,304\n",
      "      BatchNorm2d-21            [-1, 512, 4, 4]           1,024\n",
      "UnetSkipConnectionBlock-22           [-1, 1024, 4, 4]               0\n",
      "             ReLU-23           [-1, 1024, 4, 4]               0\n",
      "  ConvTranspose2d-24            [-1, 512, 8, 8]       8,388,608\n",
      "      BatchNorm2d-25            [-1, 512, 8, 8]           1,024\n",
      "UnetSkipConnectionBlock-26           [-1, 1024, 8, 8]               0\n",
      "             ReLU-27           [-1, 1024, 8, 8]               0\n",
      "  ConvTranspose2d-28          [-1, 512, 16, 16]       8,388,608\n",
      "      BatchNorm2d-29          [-1, 512, 16, 16]           1,024\n",
      "UnetSkipConnectionBlock-30         [-1, 1024, 16, 16]               0\n",
      "             ReLU-31         [-1, 1024, 16, 16]               0\n",
      "  ConvTranspose2d-32          [-1, 256, 32, 32]       4,194,304\n",
      "      BatchNorm2d-33          [-1, 256, 32, 32]             512\n",
      "UnetSkipConnectionBlock-34          [-1, 512, 32, 32]               0\n",
      "             ReLU-35          [-1, 512, 32, 32]               0\n",
      "  ConvTranspose2d-36          [-1, 128, 64, 64]       1,048,576\n",
      "      BatchNorm2d-37          [-1, 128, 64, 64]             256\n",
      "UnetSkipConnectionBlock-38          [-1, 256, 64, 64]               0\n",
      "             ReLU-39          [-1, 256, 64, 64]               0\n",
      "  ConvTranspose2d-40         [-1, 64, 128, 128]         262,144\n",
      "      BatchNorm2d-41         [-1, 64, 128, 128]             128\n",
      "UnetSkipConnectionBlock-42        [-1, 128, 128, 128]               0\n",
      "             ReLU-43        [-1, 128, 128, 128]               0\n",
      "  ConvTranspose2d-44          [-1, 3, 256, 256]           6,147\n",
      "             Tanh-45          [-1, 3, 256, 256]               0\n",
      "UnetSkipConnectionBlock-46          [-1, 3, 256, 256]               0\n",
      "================================================================\n",
      "Total params: 41,828,995\n",
      "Trainable params: 41,828,995\n",
      "Non-trainable params: 0\n",
      "----------------------------------------------------------------\n",
      "Input size (MB): 0.75\n",
      "Forward/backward pass size (MB): 134.34\n",
      "Params size (MB): 159.56\n",
      "Estimated Total Size (MB): 294.66\n",
      "----------------------------------------------------------------\n"
     ]
    }
   ],
   "source": [
    "net = net.to(device)\n",
    "summary(net, input_size=(3, 256, 256))"
   ]
  },
  {
   "cell_type": "code",
   "execution_count": 12,
   "metadata": {},
   "outputs": [],
   "source": []
  },
  {
   "cell_type": "code",
   "execution_count": 10,
   "metadata": {},
   "outputs": [],
   "source": [
    "# unet_256\n",
    "net = UnetGenerator(input_nc, output_nc, 8, ngf, norm_layer=norm_layer, use_dropout=use_dropout)"
   ]
  },
  {
   "cell_type": "code",
   "execution_count": 11,
   "metadata": {
    "collapsed": true,
    "jupyter": {
     "outputs_hidden": true
    }
   },
   "outputs": [
    {
     "name": "stdout",
     "output_type": "stream",
     "text": [
      "----------------------------------------------------------------\n",
      "        Layer (type)               Output Shape         Param #\n",
      "================================================================\n",
      "            Conv2d-1         [-1, 64, 128, 128]           3,072\n",
      "         LeakyReLU-2         [-1, 64, 128, 128]               0\n",
      "            Conv2d-3          [-1, 128, 64, 64]         131,072\n",
      "       BatchNorm2d-4          [-1, 128, 64, 64]             256\n",
      "         LeakyReLU-5          [-1, 128, 64, 64]               0\n",
      "            Conv2d-6          [-1, 256, 32, 32]         524,288\n",
      "       BatchNorm2d-7          [-1, 256, 32, 32]             512\n",
      "         LeakyReLU-8          [-1, 256, 32, 32]               0\n",
      "            Conv2d-9          [-1, 512, 16, 16]       2,097,152\n",
      "      BatchNorm2d-10          [-1, 512, 16, 16]           1,024\n",
      "        LeakyReLU-11          [-1, 512, 16, 16]               0\n",
      "           Conv2d-12            [-1, 512, 8, 8]       4,194,304\n",
      "      BatchNorm2d-13            [-1, 512, 8, 8]           1,024\n",
      "        LeakyReLU-14            [-1, 512, 8, 8]               0\n",
      "           Conv2d-15            [-1, 512, 4, 4]       4,194,304\n",
      "      BatchNorm2d-16            [-1, 512, 4, 4]           1,024\n",
      "        LeakyReLU-17            [-1, 512, 4, 4]               0\n",
      "           Conv2d-18            [-1, 512, 2, 2]       4,194,304\n",
      "      BatchNorm2d-19            [-1, 512, 2, 2]           1,024\n",
      "        LeakyReLU-20            [-1, 512, 2, 2]               0\n",
      "           Conv2d-21            [-1, 512, 1, 1]       4,194,304\n",
      "             ReLU-22            [-1, 512, 1, 1]               0\n",
      "  ConvTranspose2d-23            [-1, 512, 2, 2]       4,194,304\n",
      "      BatchNorm2d-24            [-1, 512, 2, 2]           1,024\n",
      "UnetSkipConnectionBlock-25           [-1, 1024, 2, 2]               0\n",
      "             ReLU-26           [-1, 1024, 2, 2]               0\n",
      "  ConvTranspose2d-27            [-1, 512, 4, 4]       8,388,608\n",
      "      BatchNorm2d-28            [-1, 512, 4, 4]           1,024\n",
      "UnetSkipConnectionBlock-29           [-1, 1024, 4, 4]               0\n",
      "             ReLU-30           [-1, 1024, 4, 4]               0\n",
      "  ConvTranspose2d-31            [-1, 512, 8, 8]       8,388,608\n",
      "      BatchNorm2d-32            [-1, 512, 8, 8]           1,024\n",
      "UnetSkipConnectionBlock-33           [-1, 1024, 8, 8]               0\n",
      "             ReLU-34           [-1, 1024, 8, 8]               0\n",
      "  ConvTranspose2d-35          [-1, 512, 16, 16]       8,388,608\n",
      "      BatchNorm2d-36          [-1, 512, 16, 16]           1,024\n",
      "UnetSkipConnectionBlock-37         [-1, 1024, 16, 16]               0\n",
      "             ReLU-38         [-1, 1024, 16, 16]               0\n",
      "  ConvTranspose2d-39          [-1, 256, 32, 32]       4,194,304\n",
      "      BatchNorm2d-40          [-1, 256, 32, 32]             512\n",
      "UnetSkipConnectionBlock-41          [-1, 512, 32, 32]               0\n",
      "             ReLU-42          [-1, 512, 32, 32]               0\n",
      "  ConvTranspose2d-43          [-1, 128, 64, 64]       1,048,576\n",
      "      BatchNorm2d-44          [-1, 128, 64, 64]             256\n",
      "UnetSkipConnectionBlock-45          [-1, 256, 64, 64]               0\n",
      "             ReLU-46          [-1, 256, 64, 64]               0\n",
      "  ConvTranspose2d-47         [-1, 64, 128, 128]         262,144\n",
      "      BatchNorm2d-48         [-1, 64, 128, 128]             128\n",
      "UnetSkipConnectionBlock-49        [-1, 128, 128, 128]               0\n",
      "             ReLU-50        [-1, 128, 128, 128]               0\n",
      "  ConvTranspose2d-51          [-1, 3, 256, 256]           6,147\n",
      "             Tanh-52          [-1, 3, 256, 256]               0\n",
      "UnetSkipConnectionBlock-53          [-1, 3, 256, 256]               0\n",
      "================================================================\n",
      "Total params: 54,413,955\n",
      "Trainable params: 54,413,955\n",
      "Non-trainable params: 0\n",
      "----------------------------------------------------------------\n",
      "Input size (MB): 0.75\n",
      "Forward/backward pass size (MB): 134.46\n",
      "Params size (MB): 207.57\n",
      "Estimated Total Size (MB): 342.78\n",
      "----------------------------------------------------------------\n"
     ]
    }
   ],
   "source": [
    "net = net.to(device)\n",
    "summary(net, input_size=(3, 256, 256))"
   ]
  },
  {
   "cell_type": "markdown",
   "metadata": {},
   "source": [
    "## Discriminator"
   ]
  },
  {
   "cell_type": "code",
   "execution_count": 7,
   "metadata": {},
   "outputs": [],
   "source": [
    "from models.networks.discriminator.nlayer_discriminator import NLayerDiscriminator"
   ]
  },
  {
   "cell_type": "code",
   "execution_count": null,
   "metadata": {},
   "outputs": [],
   "source": []
  },
  {
   "cell_type": "code",
   "execution_count": 8,
   "metadata": {},
   "outputs": [],
   "source": [
    "# params\n",
    "ndf = 64"
   ]
  },
  {
   "cell_type": "code",
   "execution_count": 9,
   "metadata": {},
   "outputs": [],
   "source": [
    "net = NLayerDiscriminator(input_nc, ndf, n_layers=3, norm_layer=norm_layer)"
   ]
  },
  {
   "cell_type": "code",
   "execution_count": 10,
   "metadata": {},
   "outputs": [
    {
     "name": "stdout",
     "output_type": "stream",
     "text": [
      "----------------------------------------------------------------\n",
      "        Layer (type)               Output Shape         Param #\n",
      "================================================================\n",
      "            Conv2d-1         [-1, 64, 128, 128]           3,136\n",
      "         LeakyReLU-2         [-1, 64, 128, 128]               0\n",
      "            Conv2d-3          [-1, 128, 64, 64]         131,072\n",
      "       BatchNorm2d-4          [-1, 128, 64, 64]             256\n",
      "         LeakyReLU-5          [-1, 128, 64, 64]               0\n",
      "            Conv2d-6          [-1, 256, 32, 32]         524,288\n",
      "       BatchNorm2d-7          [-1, 256, 32, 32]             512\n",
      "         LeakyReLU-8          [-1, 256, 32, 32]               0\n",
      "            Conv2d-9          [-1, 512, 31, 31]       2,097,152\n",
      "      BatchNorm2d-10          [-1, 512, 31, 31]           1,024\n",
      "        LeakyReLU-11          [-1, 512, 31, 31]               0\n",
      "           Conv2d-12            [-1, 1, 30, 30]           8,193\n",
      "================================================================\n",
      "Total params: 2,765,633\n",
      "Trainable params: 2,765,633\n",
      "Non-trainable params: 0\n",
      "----------------------------------------------------------------\n",
      "Input size (MB): 0.75\n",
      "Forward/backward pass size (MB): 45.27\n",
      "Params size (MB): 10.55\n",
      "Estimated Total Size (MB): 56.57\n",
      "----------------------------------------------------------------\n"
     ]
    }
   ],
   "source": [
    "net = net.to(device)\n",
    "summary(net, input_size=(3, 256, 256))"
   ]
  },
  {
   "cell_type": "code",
   "execution_count": 12,
   "metadata": {},
   "outputs": [],
   "source": [
    "from models.pix2pix.models import Discriminator"
   ]
  },
  {
   "cell_type": "code",
   "execution_count": 13,
   "metadata": {},
   "outputs": [],
   "source": [
    "net = Discriminator()"
   ]
  },
  {
   "cell_type": "code",
   "execution_count": 16,
   "metadata": {},
   "outputs": [
    {
     "name": "stdout",
     "output_type": "stream",
     "text": [
      "----------------------------------------------------------------\n",
      "        Layer (type)               Output Shape         Param #\n",
      "================================================================\n",
      "            Conv2d-1         [-1, 64, 128, 128]           6,208\n",
      "         LeakyReLU-2         [-1, 64, 128, 128]               0\n",
      "            Conv2d-3          [-1, 128, 64, 64]         131,200\n",
      "    InstanceNorm2d-4          [-1, 128, 64, 64]               0\n",
      "         LeakyReLU-5          [-1, 128, 64, 64]               0\n",
      "            Conv2d-6          [-1, 256, 32, 32]         524,544\n",
      "    InstanceNorm2d-7          [-1, 256, 32, 32]               0\n",
      "         LeakyReLU-8          [-1, 256, 32, 32]               0\n",
      "            Conv2d-9          [-1, 512, 16, 16]       2,097,664\n",
      "   InstanceNorm2d-10          [-1, 512, 16, 16]               0\n",
      "        LeakyReLU-11          [-1, 512, 16, 16]               0\n",
      "        ZeroPad2d-12          [-1, 512, 17, 17]               0\n",
      "           Conv2d-13            [-1, 1, 16, 16]           8,192\n",
      "================================================================\n",
      "Total params: 2,767,808\n",
      "Trainable params: 2,767,808\n",
      "Non-trainable params: 0\n",
      "----------------------------------------------------------------\n",
      "Input size (MB): 147456.00\n",
      "Forward/backward pass size (MB): 38.13\n",
      "Params size (MB): 10.56\n",
      "Estimated Total Size (MB): 147504.69\n",
      "----------------------------------------------------------------\n"
     ]
    }
   ],
   "source": [
    "net = net.to(device)\n",
    "summary(net, [(3, 256, 256),(3, 256, 256)])"
   ]
  },
  {
   "cell_type": "code",
   "execution_count": null,
   "metadata": {},
   "outputs": [],
   "source": []
  },
  {
   "cell_type": "code",
   "execution_count": null,
   "metadata": {},
   "outputs": [],
   "source": []
  },
  {
   "cell_type": "code",
   "execution_count": null,
   "metadata": {},
   "outputs": [],
   "source": []
  },
  {
   "cell_type": "code",
   "execution_count": null,
   "metadata": {},
   "outputs": [],
   "source": []
  }
 ],
 "metadata": {
  "kernelspec": {
   "display_name": "Python 3",
   "language": "python",
   "name": "python3"
  },
  "language_info": {
   "codemirror_mode": {
    "name": "ipython",
    "version": 3
   },
   "file_extension": ".py",
   "mimetype": "text/x-python",
   "name": "python",
   "nbconvert_exporter": "python",
   "pygments_lexer": "ipython3",
   "version": "3.7.4"
  }
 },
 "nbformat": 4,
 "nbformat_minor": 4
}
