{
 "cells": [
  {
   "cell_type": "code",
   "execution_count": 1,
   "metadata": {},
   "outputs": [],
   "source": [
    "import os\n",
    "import sys\n",
    "import torch\n",
    "from torchsummary import summary\n",
    "sys.path.insert(0, '..')"
   ]
  },
  {
   "cell_type": "code",
   "execution_count": 2,
   "metadata": {},
   "outputs": [],
   "source": [
    "channels = 3\n",
    "img_height = 128\n",
    "img_width = 128\n",
    "input_shape = (channels, img_height, img_width)\n",
    "n_residual_blocks = 9\n",
    "device = torch.device(\"cuda\" if torch.cuda.is_available() else \"cpu\") # PyTorch v0.4.0"
   ]
  },
  {
   "cell_type": "code",
   "execution_count": 3,
   "metadata": {},
   "outputs": [
    {
     "name": "stdout",
     "output_type": "stream",
     "text": [
      "Experiments_01_image.ipynb\n"
     ]
    }
   ],
   "source": [
    "!ls"
   ]
  },
  {
   "cell_type": "code",
   "execution_count": 4,
   "metadata": {},
   "outputs": [],
   "source": [
    "inputs = torch.randn((2, 3, 128, 128))"
   ]
  },
  {
   "cell_type": "code",
   "execution_count": 5,
   "metadata": {},
   "outputs": [],
   "source": [
    "from models.cyclegan.models import GeneratorResNet, Discriminator"
   ]
  },
  {
   "cell_type": "code",
   "execution_count": 6,
   "metadata": {},
   "outputs": [],
   "source": [
    "model = GeneratorResNet(input_shape, n_residual_blocks)"
   ]
  },
  {
   "cell_type": "code",
   "execution_count": 7,
   "metadata": {},
   "outputs": [],
   "source": [
    "out = model(inputs)"
   ]
  },
  {
   "cell_type": "code",
   "execution_count": 8,
   "metadata": {},
   "outputs": [],
   "source": [
    "model = model.to(device)"
   ]
  },
  {
   "cell_type": "code",
   "execution_count": 9,
   "metadata": {},
   "outputs": [
    {
     "name": "stdout",
     "output_type": "stream",
     "text": [
      "----------------------------------------------------------------\n",
      "        Layer (type)               Output Shape         Param #\n",
      "================================================================\n",
      "   ReflectionPad2d-1          [-1, 3, 134, 134]               0\n",
      "            Conv2d-2         [-1, 64, 128, 128]           9,472\n",
      "    InstanceNorm2d-3         [-1, 64, 128, 128]               0\n",
      "              ReLU-4         [-1, 64, 128, 128]               0\n",
      "            Conv2d-5          [-1, 128, 64, 64]          73,856\n",
      "    InstanceNorm2d-6          [-1, 128, 64, 64]               0\n",
      "              ReLU-7          [-1, 128, 64, 64]               0\n",
      "            Conv2d-8          [-1, 256, 32, 32]         295,168\n",
      "    InstanceNorm2d-9          [-1, 256, 32, 32]               0\n",
      "             ReLU-10          [-1, 256, 32, 32]               0\n",
      "  ReflectionPad2d-11          [-1, 256, 34, 34]               0\n",
      "           Conv2d-12          [-1, 256, 32, 32]         590,080\n",
      "   InstanceNorm2d-13          [-1, 256, 32, 32]               0\n",
      "             ReLU-14          [-1, 256, 32, 32]               0\n",
      "  ReflectionPad2d-15          [-1, 256, 34, 34]               0\n",
      "           Conv2d-16          [-1, 256, 32, 32]         590,080\n",
      "   InstanceNorm2d-17          [-1, 256, 32, 32]               0\n",
      "    ResidualBlock-18          [-1, 256, 32, 32]               0\n",
      "  ReflectionPad2d-19          [-1, 256, 34, 34]               0\n",
      "           Conv2d-20          [-1, 256, 32, 32]         590,080\n",
      "   InstanceNorm2d-21          [-1, 256, 32, 32]               0\n",
      "             ReLU-22          [-1, 256, 32, 32]               0\n",
      "  ReflectionPad2d-23          [-1, 256, 34, 34]               0\n",
      "           Conv2d-24          [-1, 256, 32, 32]         590,080\n",
      "   InstanceNorm2d-25          [-1, 256, 32, 32]               0\n",
      "    ResidualBlock-26          [-1, 256, 32, 32]               0\n",
      "  ReflectionPad2d-27          [-1, 256, 34, 34]               0\n",
      "           Conv2d-28          [-1, 256, 32, 32]         590,080\n",
      "   InstanceNorm2d-29          [-1, 256, 32, 32]               0\n",
      "             ReLU-30          [-1, 256, 32, 32]               0\n",
      "  ReflectionPad2d-31          [-1, 256, 34, 34]               0\n",
      "           Conv2d-32          [-1, 256, 32, 32]         590,080\n",
      "   InstanceNorm2d-33          [-1, 256, 32, 32]               0\n",
      "    ResidualBlock-34          [-1, 256, 32, 32]               0\n",
      "  ReflectionPad2d-35          [-1, 256, 34, 34]               0\n",
      "           Conv2d-36          [-1, 256, 32, 32]         590,080\n",
      "   InstanceNorm2d-37          [-1, 256, 32, 32]               0\n",
      "             ReLU-38          [-1, 256, 32, 32]               0\n",
      "  ReflectionPad2d-39          [-1, 256, 34, 34]               0\n",
      "           Conv2d-40          [-1, 256, 32, 32]         590,080\n",
      "   InstanceNorm2d-41          [-1, 256, 32, 32]               0\n",
      "    ResidualBlock-42          [-1, 256, 32, 32]               0\n",
      "  ReflectionPad2d-43          [-1, 256, 34, 34]               0\n",
      "           Conv2d-44          [-1, 256, 32, 32]         590,080\n",
      "   InstanceNorm2d-45          [-1, 256, 32, 32]               0\n",
      "             ReLU-46          [-1, 256, 32, 32]               0\n",
      "  ReflectionPad2d-47          [-1, 256, 34, 34]               0\n",
      "           Conv2d-48          [-1, 256, 32, 32]         590,080\n",
      "   InstanceNorm2d-49          [-1, 256, 32, 32]               0\n",
      "    ResidualBlock-50          [-1, 256, 32, 32]               0\n",
      "  ReflectionPad2d-51          [-1, 256, 34, 34]               0\n",
      "           Conv2d-52          [-1, 256, 32, 32]         590,080\n",
      "   InstanceNorm2d-53          [-1, 256, 32, 32]               0\n",
      "             ReLU-54          [-1, 256, 32, 32]               0\n",
      "  ReflectionPad2d-55          [-1, 256, 34, 34]               0\n",
      "           Conv2d-56          [-1, 256, 32, 32]         590,080\n",
      "   InstanceNorm2d-57          [-1, 256, 32, 32]               0\n",
      "    ResidualBlock-58          [-1, 256, 32, 32]               0\n",
      "  ReflectionPad2d-59          [-1, 256, 34, 34]               0\n",
      "           Conv2d-60          [-1, 256, 32, 32]         590,080\n",
      "   InstanceNorm2d-61          [-1, 256, 32, 32]               0\n",
      "             ReLU-62          [-1, 256, 32, 32]               0\n",
      "  ReflectionPad2d-63          [-1, 256, 34, 34]               0\n",
      "           Conv2d-64          [-1, 256, 32, 32]         590,080\n",
      "   InstanceNorm2d-65          [-1, 256, 32, 32]               0\n",
      "    ResidualBlock-66          [-1, 256, 32, 32]               0\n",
      "  ReflectionPad2d-67          [-1, 256, 34, 34]               0\n",
      "           Conv2d-68          [-1, 256, 32, 32]         590,080\n",
      "   InstanceNorm2d-69          [-1, 256, 32, 32]               0\n",
      "             ReLU-70          [-1, 256, 32, 32]               0\n",
      "  ReflectionPad2d-71          [-1, 256, 34, 34]               0\n",
      "           Conv2d-72          [-1, 256, 32, 32]         590,080\n",
      "   InstanceNorm2d-73          [-1, 256, 32, 32]               0\n",
      "    ResidualBlock-74          [-1, 256, 32, 32]               0\n",
      "  ReflectionPad2d-75          [-1, 256, 34, 34]               0\n",
      "           Conv2d-76          [-1, 256, 32, 32]         590,080\n",
      "   InstanceNorm2d-77          [-1, 256, 32, 32]               0\n",
      "             ReLU-78          [-1, 256, 32, 32]               0\n",
      "  ReflectionPad2d-79          [-1, 256, 34, 34]               0\n",
      "           Conv2d-80          [-1, 256, 32, 32]         590,080\n",
      "   InstanceNorm2d-81          [-1, 256, 32, 32]               0\n",
      "    ResidualBlock-82          [-1, 256, 32, 32]               0\n",
      "         Upsample-83          [-1, 256, 64, 64]               0\n",
      "           Conv2d-84          [-1, 128, 64, 64]         295,040\n",
      "   InstanceNorm2d-85          [-1, 128, 64, 64]               0\n",
      "             ReLU-86          [-1, 128, 64, 64]               0\n",
      "         Upsample-87        [-1, 128, 128, 128]               0\n",
      "           Conv2d-88         [-1, 64, 128, 128]          73,792\n",
      "   InstanceNorm2d-89         [-1, 64, 128, 128]               0\n",
      "             ReLU-90         [-1, 64, 128, 128]               0\n",
      "  ReflectionPad2d-91         [-1, 64, 134, 134]               0\n",
      "           Conv2d-92          [-1, 3, 128, 128]           9,411\n",
      "             Tanh-93          [-1, 3, 128, 128]               0\n",
      "================================================================\n",
      "Total params: 11,378,179\n",
      "Trainable params: 11,378,179\n",
      "Non-trainable params: 0\n",
      "----------------------------------------------------------------\n",
      "Input size (MB): 0.19\n",
      "Forward/backward pass size (MB): 260.57\n",
      "Params size (MB): 43.40\n",
      "Estimated Total Size (MB): 304.16\n",
      "----------------------------------------------------------------\n"
     ]
    }
   ],
   "source": [
    "summary(model, input_shape)"
   ]
  },
  {
   "cell_type": "code",
   "execution_count": 12,
   "metadata": {
    "collapsed": true,
    "jupyter": {
     "outputs_hidden": true
    }
   },
   "outputs": [
    {
     "name": "stdout",
     "output_type": "stream",
     "text": [
      "GeneratorResNet(\n",
      "  (model): Sequential(\n",
      "    (0): ReflectionPad2d((3, 3, 3, 3))\n",
      "    (1): Conv2d(3, 64, kernel_size=(7, 7), stride=(1, 1))\n",
      "    (2): InstanceNorm2d(64, eps=1e-05, momentum=0.1, affine=False, track_running_stats=False)\n",
      "    (3): ReLU(inplace=True)\n",
      "    (4): Conv2d(64, 128, kernel_size=(3, 3), stride=(2, 2), padding=(1, 1))\n",
      "    (5): InstanceNorm2d(128, eps=1e-05, momentum=0.1, affine=False, track_running_stats=False)\n",
      "    (6): ReLU(inplace=True)\n",
      "    (7): Conv2d(128, 256, kernel_size=(3, 3), stride=(2, 2), padding=(1, 1))\n",
      "    (8): InstanceNorm2d(256, eps=1e-05, momentum=0.1, affine=False, track_running_stats=False)\n",
      "    (9): ReLU(inplace=True)\n",
      "    (10): ResidualBlock(\n",
      "      (block): Sequential(\n",
      "        (0): ReflectionPad2d((1, 1, 1, 1))\n",
      "        (1): Conv2d(256, 256, kernel_size=(3, 3), stride=(1, 1))\n",
      "        (2): InstanceNorm2d(256, eps=1e-05, momentum=0.1, affine=False, track_running_stats=False)\n",
      "        (3): ReLU(inplace=True)\n",
      "        (4): ReflectionPad2d((1, 1, 1, 1))\n",
      "        (5): Conv2d(256, 256, kernel_size=(3, 3), stride=(1, 1))\n",
      "        (6): InstanceNorm2d(256, eps=1e-05, momentum=0.1, affine=False, track_running_stats=False)\n",
      "      )\n",
      "    )\n",
      "    (11): ResidualBlock(\n",
      "      (block): Sequential(\n",
      "        (0): ReflectionPad2d((1, 1, 1, 1))\n",
      "        (1): Conv2d(256, 256, kernel_size=(3, 3), stride=(1, 1))\n",
      "        (2): InstanceNorm2d(256, eps=1e-05, momentum=0.1, affine=False, track_running_stats=False)\n",
      "        (3): ReLU(inplace=True)\n",
      "        (4): ReflectionPad2d((1, 1, 1, 1))\n",
      "        (5): Conv2d(256, 256, kernel_size=(3, 3), stride=(1, 1))\n",
      "        (6): InstanceNorm2d(256, eps=1e-05, momentum=0.1, affine=False, track_running_stats=False)\n",
      "      )\n",
      "    )\n",
      "    (12): ResidualBlock(\n",
      "      (block): Sequential(\n",
      "        (0): ReflectionPad2d((1, 1, 1, 1))\n",
      "        (1): Conv2d(256, 256, kernel_size=(3, 3), stride=(1, 1))\n",
      "        (2): InstanceNorm2d(256, eps=1e-05, momentum=0.1, affine=False, track_running_stats=False)\n",
      "        (3): ReLU(inplace=True)\n",
      "        (4): ReflectionPad2d((1, 1, 1, 1))\n",
      "        (5): Conv2d(256, 256, kernel_size=(3, 3), stride=(1, 1))\n",
      "        (6): InstanceNorm2d(256, eps=1e-05, momentum=0.1, affine=False, track_running_stats=False)\n",
      "      )\n",
      "    )\n",
      "    (13): ResidualBlock(\n",
      "      (block): Sequential(\n",
      "        (0): ReflectionPad2d((1, 1, 1, 1))\n",
      "        (1): Conv2d(256, 256, kernel_size=(3, 3), stride=(1, 1))\n",
      "        (2): InstanceNorm2d(256, eps=1e-05, momentum=0.1, affine=False, track_running_stats=False)\n",
      "        (3): ReLU(inplace=True)\n",
      "        (4): ReflectionPad2d((1, 1, 1, 1))\n",
      "        (5): Conv2d(256, 256, kernel_size=(3, 3), stride=(1, 1))\n",
      "        (6): InstanceNorm2d(256, eps=1e-05, momentum=0.1, affine=False, track_running_stats=False)\n",
      "      )\n",
      "    )\n",
      "    (14): ResidualBlock(\n",
      "      (block): Sequential(\n",
      "        (0): ReflectionPad2d((1, 1, 1, 1))\n",
      "        (1): Conv2d(256, 256, kernel_size=(3, 3), stride=(1, 1))\n",
      "        (2): InstanceNorm2d(256, eps=1e-05, momentum=0.1, affine=False, track_running_stats=False)\n",
      "        (3): ReLU(inplace=True)\n",
      "        (4): ReflectionPad2d((1, 1, 1, 1))\n",
      "        (5): Conv2d(256, 256, kernel_size=(3, 3), stride=(1, 1))\n",
      "        (6): InstanceNorm2d(256, eps=1e-05, momentum=0.1, affine=False, track_running_stats=False)\n",
      "      )\n",
      "    )\n",
      "    (15): ResidualBlock(\n",
      "      (block): Sequential(\n",
      "        (0): ReflectionPad2d((1, 1, 1, 1))\n",
      "        (1): Conv2d(256, 256, kernel_size=(3, 3), stride=(1, 1))\n",
      "        (2): InstanceNorm2d(256, eps=1e-05, momentum=0.1, affine=False, track_running_stats=False)\n",
      "        (3): ReLU(inplace=True)\n",
      "        (4): ReflectionPad2d((1, 1, 1, 1))\n",
      "        (5): Conv2d(256, 256, kernel_size=(3, 3), stride=(1, 1))\n",
      "        (6): InstanceNorm2d(256, eps=1e-05, momentum=0.1, affine=False, track_running_stats=False)\n",
      "      )\n",
      "    )\n",
      "    (16): ResidualBlock(\n",
      "      (block): Sequential(\n",
      "        (0): ReflectionPad2d((1, 1, 1, 1))\n",
      "        (1): Conv2d(256, 256, kernel_size=(3, 3), stride=(1, 1))\n",
      "        (2): InstanceNorm2d(256, eps=1e-05, momentum=0.1, affine=False, track_running_stats=False)\n",
      "        (3): ReLU(inplace=True)\n",
      "        (4): ReflectionPad2d((1, 1, 1, 1))\n",
      "        (5): Conv2d(256, 256, kernel_size=(3, 3), stride=(1, 1))\n",
      "        (6): InstanceNorm2d(256, eps=1e-05, momentum=0.1, affine=False, track_running_stats=False)\n",
      "      )\n",
      "    )\n",
      "    (17): ResidualBlock(\n",
      "      (block): Sequential(\n",
      "        (0): ReflectionPad2d((1, 1, 1, 1))\n",
      "        (1): Conv2d(256, 256, kernel_size=(3, 3), stride=(1, 1))\n",
      "        (2): InstanceNorm2d(256, eps=1e-05, momentum=0.1, affine=False, track_running_stats=False)\n",
      "        (3): ReLU(inplace=True)\n",
      "        (4): ReflectionPad2d((1, 1, 1, 1))\n",
      "        (5): Conv2d(256, 256, kernel_size=(3, 3), stride=(1, 1))\n",
      "        (6): InstanceNorm2d(256, eps=1e-05, momentum=0.1, affine=False, track_running_stats=False)\n",
      "      )\n",
      "    )\n",
      "    (18): ResidualBlock(\n",
      "      (block): Sequential(\n",
      "        (0): ReflectionPad2d((1, 1, 1, 1))\n",
      "        (1): Conv2d(256, 256, kernel_size=(3, 3), stride=(1, 1))\n",
      "        (2): InstanceNorm2d(256, eps=1e-05, momentum=0.1, affine=False, track_running_stats=False)\n",
      "        (3): ReLU(inplace=True)\n",
      "        (4): ReflectionPad2d((1, 1, 1, 1))\n",
      "        (5): Conv2d(256, 256, kernel_size=(3, 3), stride=(1, 1))\n",
      "        (6): InstanceNorm2d(256, eps=1e-05, momentum=0.1, affine=False, track_running_stats=False)\n",
      "      )\n",
      "    )\n",
      "    (19): Upsample(scale_factor=2.0, mode=nearest)\n",
      "    (20): Conv2d(256, 128, kernel_size=(3, 3), stride=(1, 1), padding=(1, 1))\n",
      "    (21): InstanceNorm2d(128, eps=1e-05, momentum=0.1, affine=False, track_running_stats=False)\n",
      "    (22): ReLU(inplace=True)\n",
      "    (23): Upsample(scale_factor=2.0, mode=nearest)\n",
      "    (24): Conv2d(128, 64, kernel_size=(3, 3), stride=(1, 1), padding=(1, 1))\n",
      "    (25): InstanceNorm2d(64, eps=1e-05, momentum=0.1, affine=False, track_running_stats=False)\n",
      "    (26): ReLU(inplace=True)\n",
      "    (27): ReflectionPad2d((3, 3, 3, 3))\n",
      "    (28): Conv2d(64, 3, kernel_size=(7, 7), stride=(1, 1))\n",
      "    (29): Tanh()\n",
      "  )\n",
      ")\n"
     ]
    }
   ],
   "source": [
    "print(model)"
   ]
  },
  {
   "cell_type": "code",
   "execution_count": 13,
   "metadata": {},
   "outputs": [
    {
     "name": "stdout",
     "output_type": "stream",
     "text": [
      "torch.Size([2, 3, 128, 128])\n"
     ]
    }
   ],
   "source": [
    "print(out.shape)"
   ]
  },
  {
   "cell_type": "code",
   "execution_count": null,
   "metadata": {},
   "outputs": [],
   "source": []
  },
  {
   "cell_type": "code",
   "execution_count": 15,
   "metadata": {},
   "outputs": [],
   "source": [
    "from timm.models.resnet import resnet18"
   ]
  },
  {
   "cell_type": "code",
   "execution_count": 16,
   "metadata": {},
   "outputs": [
    {
     "name": "stderr",
     "output_type": "stream",
     "text": [
      "Downloading: \"https://download.pytorch.org/models/resnet18-5c106cde.pth\" to /home/nghia/.cache/torch/checkpoints/resnet18-5c106cde.pth\n"
     ]
    }
   ],
   "source": [
    "backbone = resnet18(pretrained=True)"
   ]
  },
  {
   "cell_type": "code",
   "execution_count": 17,
   "metadata": {
    "collapsed": true,
    "jupyter": {
     "outputs_hidden": true
    }
   },
   "outputs": [
    {
     "name": "stdout",
     "output_type": "stream",
     "text": [
      "ResNet(\n",
      "  (conv1): Conv2d(3, 64, kernel_size=(7, 7), stride=(2, 2), padding=(3, 3), bias=False)\n",
      "  (bn1): BatchNorm2d(64, eps=1e-05, momentum=0.1, affine=True, track_running_stats=True)\n",
      "  (act1): ReLU(inplace=True)\n",
      "  (maxpool): MaxPool2d(kernel_size=3, stride=2, padding=1, dilation=1, ceil_mode=False)\n",
      "  (layer1): Sequential(\n",
      "    (0): BasicBlock(\n",
      "      (conv1): Conv2d(64, 64, kernel_size=(3, 3), stride=(1, 1), padding=(1, 1), bias=False)\n",
      "      (bn1): BatchNorm2d(64, eps=1e-05, momentum=0.1, affine=True, track_running_stats=True)\n",
      "      (act1): ReLU(inplace=True)\n",
      "      (conv2): Conv2d(64, 64, kernel_size=(3, 3), stride=(1, 1), padding=(1, 1), bias=False)\n",
      "      (bn2): BatchNorm2d(64, eps=1e-05, momentum=0.1, affine=True, track_running_stats=True)\n",
      "      (act2): ReLU(inplace=True)\n",
      "    )\n",
      "    (1): BasicBlock(\n",
      "      (conv1): Conv2d(64, 64, kernel_size=(3, 3), stride=(1, 1), padding=(1, 1), bias=False)\n",
      "      (bn1): BatchNorm2d(64, eps=1e-05, momentum=0.1, affine=True, track_running_stats=True)\n",
      "      (act1): ReLU(inplace=True)\n",
      "      (conv2): Conv2d(64, 64, kernel_size=(3, 3), stride=(1, 1), padding=(1, 1), bias=False)\n",
      "      (bn2): BatchNorm2d(64, eps=1e-05, momentum=0.1, affine=True, track_running_stats=True)\n",
      "      (act2): ReLU(inplace=True)\n",
      "    )\n",
      "  )\n",
      "  (layer2): Sequential(\n",
      "    (0): BasicBlock(\n",
      "      (conv1): Conv2d(64, 128, kernel_size=(3, 3), stride=(2, 2), padding=(1, 1), bias=False)\n",
      "      (bn1): BatchNorm2d(128, eps=1e-05, momentum=0.1, affine=True, track_running_stats=True)\n",
      "      (act1): ReLU(inplace=True)\n",
      "      (conv2): Conv2d(128, 128, kernel_size=(3, 3), stride=(1, 1), padding=(1, 1), bias=False)\n",
      "      (bn2): BatchNorm2d(128, eps=1e-05, momentum=0.1, affine=True, track_running_stats=True)\n",
      "      (act2): ReLU(inplace=True)\n",
      "      (downsample): Sequential(\n",
      "        (0): Conv2d(64, 128, kernel_size=(1, 1), stride=(2, 2), bias=False)\n",
      "        (1): BatchNorm2d(128, eps=1e-05, momentum=0.1, affine=True, track_running_stats=True)\n",
      "      )\n",
      "    )\n",
      "    (1): BasicBlock(\n",
      "      (conv1): Conv2d(128, 128, kernel_size=(3, 3), stride=(1, 1), padding=(1, 1), bias=False)\n",
      "      (bn1): BatchNorm2d(128, eps=1e-05, momentum=0.1, affine=True, track_running_stats=True)\n",
      "      (act1): ReLU(inplace=True)\n",
      "      (conv2): Conv2d(128, 128, kernel_size=(3, 3), stride=(1, 1), padding=(1, 1), bias=False)\n",
      "      (bn2): BatchNorm2d(128, eps=1e-05, momentum=0.1, affine=True, track_running_stats=True)\n",
      "      (act2): ReLU(inplace=True)\n",
      "    )\n",
      "  )\n",
      "  (layer3): Sequential(\n",
      "    (0): BasicBlock(\n",
      "      (conv1): Conv2d(128, 256, kernel_size=(3, 3), stride=(2, 2), padding=(1, 1), bias=False)\n",
      "      (bn1): BatchNorm2d(256, eps=1e-05, momentum=0.1, affine=True, track_running_stats=True)\n",
      "      (act1): ReLU(inplace=True)\n",
      "      (conv2): Conv2d(256, 256, kernel_size=(3, 3), stride=(1, 1), padding=(1, 1), bias=False)\n",
      "      (bn2): BatchNorm2d(256, eps=1e-05, momentum=0.1, affine=True, track_running_stats=True)\n",
      "      (act2): ReLU(inplace=True)\n",
      "      (downsample): Sequential(\n",
      "        (0): Conv2d(128, 256, kernel_size=(1, 1), stride=(2, 2), bias=False)\n",
      "        (1): BatchNorm2d(256, eps=1e-05, momentum=0.1, affine=True, track_running_stats=True)\n",
      "      )\n",
      "    )\n",
      "    (1): BasicBlock(\n",
      "      (conv1): Conv2d(256, 256, kernel_size=(3, 3), stride=(1, 1), padding=(1, 1), bias=False)\n",
      "      (bn1): BatchNorm2d(256, eps=1e-05, momentum=0.1, affine=True, track_running_stats=True)\n",
      "      (act1): ReLU(inplace=True)\n",
      "      (conv2): Conv2d(256, 256, kernel_size=(3, 3), stride=(1, 1), padding=(1, 1), bias=False)\n",
      "      (bn2): BatchNorm2d(256, eps=1e-05, momentum=0.1, affine=True, track_running_stats=True)\n",
      "      (act2): ReLU(inplace=True)\n",
      "    )\n",
      "  )\n",
      "  (layer4): Sequential(\n",
      "    (0): BasicBlock(\n",
      "      (conv1): Conv2d(256, 512, kernel_size=(3, 3), stride=(2, 2), padding=(1, 1), bias=False)\n",
      "      (bn1): BatchNorm2d(512, eps=1e-05, momentum=0.1, affine=True, track_running_stats=True)\n",
      "      (act1): ReLU(inplace=True)\n",
      "      (conv2): Conv2d(512, 512, kernel_size=(3, 3), stride=(1, 1), padding=(1, 1), bias=False)\n",
      "      (bn2): BatchNorm2d(512, eps=1e-05, momentum=0.1, affine=True, track_running_stats=True)\n",
      "      (act2): ReLU(inplace=True)\n",
      "      (downsample): Sequential(\n",
      "        (0): Conv2d(256, 512, kernel_size=(1, 1), stride=(2, 2), bias=False)\n",
      "        (1): BatchNorm2d(512, eps=1e-05, momentum=0.1, affine=True, track_running_stats=True)\n",
      "      )\n",
      "    )\n",
      "    (1): BasicBlock(\n",
      "      (conv1): Conv2d(512, 512, kernel_size=(3, 3), stride=(1, 1), padding=(1, 1), bias=False)\n",
      "      (bn1): BatchNorm2d(512, eps=1e-05, momentum=0.1, affine=True, track_running_stats=True)\n",
      "      (act1): ReLU(inplace=True)\n",
      "      (conv2): Conv2d(512, 512, kernel_size=(3, 3), stride=(1, 1), padding=(1, 1), bias=False)\n",
      "      (bn2): BatchNorm2d(512, eps=1e-05, momentum=0.1, affine=True, track_running_stats=True)\n",
      "      (act2): ReLU(inplace=True)\n",
      "    )\n",
      "  )\n",
      "  (global_pool): SelectAdaptivePool2d (pool_type=avg, flatten=True)\n",
      "  (fc): Linear(in_features=512, out_features=1000, bias=True)\n",
      ")\n"
     ]
    }
   ],
   "source": [
    "print(backbone)"
   ]
  },
  {
   "cell_type": "code",
   "execution_count": 18,
   "metadata": {},
   "outputs": [],
   "source": [
    "out1 = backbone(inputs)"
   ]
  },
  {
   "cell_type": "code",
   "execution_count": 19,
   "metadata": {},
   "outputs": [
    {
     "data": {
      "text/plain": [
       "torch.Size([2, 1000])"
      ]
     },
     "execution_count": 19,
     "metadata": {},
     "output_type": "execute_result"
    }
   ],
   "source": [
    "out1.shape"
   ]
  },
  {
   "cell_type": "code",
   "execution_count": null,
   "metadata": {},
   "outputs": [],
   "source": []
  },
  {
   "cell_type": "code",
   "execution_count": 17,
   "metadata": {},
   "outputs": [],
   "source": [
    "from models.networks.transformer_net import TransformerNet"
   ]
  },
  {
   "cell_type": "code",
   "execution_count": 18,
   "metadata": {},
   "outputs": [],
   "source": [
    "model_2 = TransformerNet()"
   ]
  },
  {
   "cell_type": "code",
   "execution_count": 20,
   "metadata": {},
   "outputs": [],
   "source": [
    "model_2 = model_2.to(device)"
   ]
  },
  {
   "cell_type": "code",
   "execution_count": 21,
   "metadata": {},
   "outputs": [
    {
     "name": "stdout",
     "output_type": "stream",
     "text": [
      "----------------------------------------------------------------\n",
      "        Layer (type)               Output Shape         Param #\n",
      "================================================================\n",
      "   ReflectionPad2d-1          [-1, 3, 136, 136]               0\n",
      "            Conv2d-2         [-1, 32, 128, 128]           7,808\n",
      "         ConvLayer-3         [-1, 32, 128, 128]               0\n",
      "    InstanceNorm2d-4         [-1, 32, 128, 128]              64\n",
      "              ReLU-5         [-1, 32, 128, 128]               0\n",
      "   ReflectionPad2d-6         [-1, 32, 130, 130]               0\n",
      "            Conv2d-7           [-1, 64, 64, 64]          18,496\n",
      "         ConvLayer-8           [-1, 64, 64, 64]               0\n",
      "    InstanceNorm2d-9           [-1, 64, 64, 64]             128\n",
      "             ReLU-10           [-1, 64, 64, 64]               0\n",
      "  ReflectionPad2d-11           [-1, 64, 66, 66]               0\n",
      "           Conv2d-12          [-1, 128, 32, 32]          73,856\n",
      "        ConvLayer-13          [-1, 128, 32, 32]               0\n",
      "   InstanceNorm2d-14          [-1, 128, 32, 32]             256\n",
      "             ReLU-15          [-1, 128, 32, 32]               0\n",
      "  ReflectionPad2d-16          [-1, 128, 34, 34]               0\n",
      "           Conv2d-17          [-1, 128, 32, 32]         147,584\n",
      "        ConvLayer-18          [-1, 128, 32, 32]               0\n",
      "   InstanceNorm2d-19          [-1, 128, 32, 32]             256\n",
      "             ReLU-20          [-1, 128, 32, 32]               0\n",
      "  ReflectionPad2d-21          [-1, 128, 34, 34]               0\n",
      "           Conv2d-22          [-1, 128, 32, 32]         147,584\n",
      "        ConvLayer-23          [-1, 128, 32, 32]               0\n",
      "   InstanceNorm2d-24          [-1, 128, 32, 32]             256\n",
      "    ResidualBlock-25          [-1, 128, 32, 32]               0\n",
      "  ReflectionPad2d-26          [-1, 128, 34, 34]               0\n",
      "           Conv2d-27          [-1, 128, 32, 32]         147,584\n",
      "        ConvLayer-28          [-1, 128, 32, 32]               0\n",
      "   InstanceNorm2d-29          [-1, 128, 32, 32]             256\n",
      "             ReLU-30          [-1, 128, 32, 32]               0\n",
      "  ReflectionPad2d-31          [-1, 128, 34, 34]               0\n",
      "           Conv2d-32          [-1, 128, 32, 32]         147,584\n",
      "        ConvLayer-33          [-1, 128, 32, 32]               0\n",
      "   InstanceNorm2d-34          [-1, 128, 32, 32]             256\n",
      "    ResidualBlock-35          [-1, 128, 32, 32]               0\n",
      "  ReflectionPad2d-36          [-1, 128, 34, 34]               0\n",
      "           Conv2d-37          [-1, 128, 32, 32]         147,584\n",
      "        ConvLayer-38          [-1, 128, 32, 32]               0\n",
      "   InstanceNorm2d-39          [-1, 128, 32, 32]             256\n",
      "             ReLU-40          [-1, 128, 32, 32]               0\n",
      "  ReflectionPad2d-41          [-1, 128, 34, 34]               0\n",
      "           Conv2d-42          [-1, 128, 32, 32]         147,584\n",
      "        ConvLayer-43          [-1, 128, 32, 32]               0\n",
      "   InstanceNorm2d-44          [-1, 128, 32, 32]             256\n",
      "    ResidualBlock-45          [-1, 128, 32, 32]               0\n",
      "  ReflectionPad2d-46          [-1, 128, 34, 34]               0\n",
      "           Conv2d-47          [-1, 128, 32, 32]         147,584\n",
      "        ConvLayer-48          [-1, 128, 32, 32]               0\n",
      "   InstanceNorm2d-49          [-1, 128, 32, 32]             256\n",
      "             ReLU-50          [-1, 128, 32, 32]               0\n",
      "  ReflectionPad2d-51          [-1, 128, 34, 34]               0\n",
      "           Conv2d-52          [-1, 128, 32, 32]         147,584\n",
      "        ConvLayer-53          [-1, 128, 32, 32]               0\n",
      "   InstanceNorm2d-54          [-1, 128, 32, 32]             256\n",
      "    ResidualBlock-55          [-1, 128, 32, 32]               0\n",
      "  ReflectionPad2d-56          [-1, 128, 34, 34]               0\n",
      "           Conv2d-57          [-1, 128, 32, 32]         147,584\n",
      "        ConvLayer-58          [-1, 128, 32, 32]               0\n",
      "   InstanceNorm2d-59          [-1, 128, 32, 32]             256\n",
      "             ReLU-60          [-1, 128, 32, 32]               0\n",
      "  ReflectionPad2d-61          [-1, 128, 34, 34]               0\n",
      "           Conv2d-62          [-1, 128, 32, 32]         147,584\n",
      "        ConvLayer-63          [-1, 128, 32, 32]               0\n",
      "   InstanceNorm2d-64          [-1, 128, 32, 32]             256\n",
      "    ResidualBlock-65          [-1, 128, 32, 32]               0\n",
      "  ReflectionPad2d-66          [-1, 128, 66, 66]               0\n",
      "           Conv2d-67           [-1, 64, 64, 64]          73,792\n",
      "UpsampleConvLayer-68           [-1, 64, 64, 64]               0\n",
      "   InstanceNorm2d-69           [-1, 64, 64, 64]             128\n",
      "             ReLU-70           [-1, 64, 64, 64]               0\n",
      "  ReflectionPad2d-71         [-1, 64, 130, 130]               0\n",
      "           Conv2d-72         [-1, 32, 128, 128]          18,464\n",
      "UpsampleConvLayer-73         [-1, 32, 128, 128]               0\n",
      "   InstanceNorm2d-74         [-1, 32, 128, 128]              64\n",
      "             ReLU-75         [-1, 32, 128, 128]               0\n",
      "  ReflectionPad2d-76         [-1, 32, 136, 136]               0\n",
      "           Conv2d-77          [-1, 3, 128, 128]           7,779\n",
      "        ConvLayer-78          [-1, 3, 128, 128]               0\n",
      "================================================================\n",
      "Total params: 1,679,235\n",
      "Trainable params: 1,679,235\n",
      "Non-trainable params: 0\n",
      "----------------------------------------------------------------\n",
      "Input size (MB): 0.19\n",
      "Forward/backward pass size (MB): 127.74\n",
      "Params size (MB): 6.41\n",
      "Estimated Total Size (MB): 134.33\n",
      "----------------------------------------------------------------\n"
     ]
    }
   ],
   "source": [
    "summary(model_2, input_shape)"
   ]
  },
  {
   "cell_type": "code",
   "execution_count": 6,
   "metadata": {
    "collapsed": true,
    "jupyter": {
     "outputs_hidden": true
    }
   },
   "outputs": [
    {
     "name": "stdout",
     "output_type": "stream",
     "text": [
      "TransformerNet(\n",
      "  (conv1): ConvLayer(\n",
      "    (reflection_pad): ReflectionPad2d((4, 4, 4, 4))\n",
      "    (conv2d): Conv2d(3, 32, kernel_size=(9, 9), stride=(1, 1))\n",
      "  )\n",
      "  (in1): InstanceNorm2d(32, eps=1e-05, momentum=0.1, affine=True, track_running_stats=False)\n",
      "  (conv2): ConvLayer(\n",
      "    (reflection_pad): ReflectionPad2d((1, 1, 1, 1))\n",
      "    (conv2d): Conv2d(32, 64, kernel_size=(3, 3), stride=(2, 2))\n",
      "  )\n",
      "  (in2): InstanceNorm2d(64, eps=1e-05, momentum=0.1, affine=True, track_running_stats=False)\n",
      "  (conv3): ConvLayer(\n",
      "    (reflection_pad): ReflectionPad2d((1, 1, 1, 1))\n",
      "    (conv2d): Conv2d(64, 128, kernel_size=(3, 3), stride=(2, 2))\n",
      "  )\n",
      "  (in3): InstanceNorm2d(128, eps=1e-05, momentum=0.1, affine=True, track_running_stats=False)\n",
      "  (res1): ResidualBlock(\n",
      "    (conv1): ConvLayer(\n",
      "      (reflection_pad): ReflectionPad2d((1, 1, 1, 1))\n",
      "      (conv2d): Conv2d(128, 128, kernel_size=(3, 3), stride=(1, 1))\n",
      "    )\n",
      "    (in1): InstanceNorm2d(128, eps=1e-05, momentum=0.1, affine=True, track_running_stats=False)\n",
      "    (conv2): ConvLayer(\n",
      "      (reflection_pad): ReflectionPad2d((1, 1, 1, 1))\n",
      "      (conv2d): Conv2d(128, 128, kernel_size=(3, 3), stride=(1, 1))\n",
      "    )\n",
      "    (in2): InstanceNorm2d(128, eps=1e-05, momentum=0.1, affine=True, track_running_stats=False)\n",
      "    (relu): ReLU()\n",
      "  )\n",
      "  (res2): ResidualBlock(\n",
      "    (conv1): ConvLayer(\n",
      "      (reflection_pad): ReflectionPad2d((1, 1, 1, 1))\n",
      "      (conv2d): Conv2d(128, 128, kernel_size=(3, 3), stride=(1, 1))\n",
      "    )\n",
      "    (in1): InstanceNorm2d(128, eps=1e-05, momentum=0.1, affine=True, track_running_stats=False)\n",
      "    (conv2): ConvLayer(\n",
      "      (reflection_pad): ReflectionPad2d((1, 1, 1, 1))\n",
      "      (conv2d): Conv2d(128, 128, kernel_size=(3, 3), stride=(1, 1))\n",
      "    )\n",
      "    (in2): InstanceNorm2d(128, eps=1e-05, momentum=0.1, affine=True, track_running_stats=False)\n",
      "    (relu): ReLU()\n",
      "  )\n",
      "  (res3): ResidualBlock(\n",
      "    (conv1): ConvLayer(\n",
      "      (reflection_pad): ReflectionPad2d((1, 1, 1, 1))\n",
      "      (conv2d): Conv2d(128, 128, kernel_size=(3, 3), stride=(1, 1))\n",
      "    )\n",
      "    (in1): InstanceNorm2d(128, eps=1e-05, momentum=0.1, affine=True, track_running_stats=False)\n",
      "    (conv2): ConvLayer(\n",
      "      (reflection_pad): ReflectionPad2d((1, 1, 1, 1))\n",
      "      (conv2d): Conv2d(128, 128, kernel_size=(3, 3), stride=(1, 1))\n",
      "    )\n",
      "    (in2): InstanceNorm2d(128, eps=1e-05, momentum=0.1, affine=True, track_running_stats=False)\n",
      "    (relu): ReLU()\n",
      "  )\n",
      "  (res4): ResidualBlock(\n",
      "    (conv1): ConvLayer(\n",
      "      (reflection_pad): ReflectionPad2d((1, 1, 1, 1))\n",
      "      (conv2d): Conv2d(128, 128, kernel_size=(3, 3), stride=(1, 1))\n",
      "    )\n",
      "    (in1): InstanceNorm2d(128, eps=1e-05, momentum=0.1, affine=True, track_running_stats=False)\n",
      "    (conv2): ConvLayer(\n",
      "      (reflection_pad): ReflectionPad2d((1, 1, 1, 1))\n",
      "      (conv2d): Conv2d(128, 128, kernel_size=(3, 3), stride=(1, 1))\n",
      "    )\n",
      "    (in2): InstanceNorm2d(128, eps=1e-05, momentum=0.1, affine=True, track_running_stats=False)\n",
      "    (relu): ReLU()\n",
      "  )\n",
      "  (res5): ResidualBlock(\n",
      "    (conv1): ConvLayer(\n",
      "      (reflection_pad): ReflectionPad2d((1, 1, 1, 1))\n",
      "      (conv2d): Conv2d(128, 128, kernel_size=(3, 3), stride=(1, 1))\n",
      "    )\n",
      "    (in1): InstanceNorm2d(128, eps=1e-05, momentum=0.1, affine=True, track_running_stats=False)\n",
      "    (conv2): ConvLayer(\n",
      "      (reflection_pad): ReflectionPad2d((1, 1, 1, 1))\n",
      "      (conv2d): Conv2d(128, 128, kernel_size=(3, 3), stride=(1, 1))\n",
      "    )\n",
      "    (in2): InstanceNorm2d(128, eps=1e-05, momentum=0.1, affine=True, track_running_stats=False)\n",
      "    (relu): ReLU()\n",
      "  )\n",
      "  (deconv1): UpsampleConvLayer(\n",
      "    (reflection_pad): ReflectionPad2d((1, 1, 1, 1))\n",
      "    (conv2d): Conv2d(128, 64, kernel_size=(3, 3), stride=(1, 1))\n",
      "  )\n",
      "  (in4): InstanceNorm2d(64, eps=1e-05, momentum=0.1, affine=True, track_running_stats=False)\n",
      "  (deconv2): UpsampleConvLayer(\n",
      "    (reflection_pad): ReflectionPad2d((1, 1, 1, 1))\n",
      "    (conv2d): Conv2d(64, 32, kernel_size=(3, 3), stride=(1, 1))\n",
      "  )\n",
      "  (in5): InstanceNorm2d(32, eps=1e-05, momentum=0.1, affine=True, track_running_stats=False)\n",
      "  (deconv3): ConvLayer(\n",
      "    (reflection_pad): ReflectionPad2d((4, 4, 4, 4))\n",
      "    (conv2d): Conv2d(32, 3, kernel_size=(9, 9), stride=(1, 1))\n",
      "  )\n",
      "  (relu): ReLU()\n",
      ")\n"
     ]
    }
   ],
   "source": [
    "print(model_2)"
   ]
  },
  {
   "cell_type": "code",
   "execution_count": 7,
   "metadata": {},
   "outputs": [],
   "source": [
    "out2 = model_2(inputs)"
   ]
  },
  {
   "cell_type": "code",
   "execution_count": 8,
   "metadata": {},
   "outputs": [
    {
     "data": {
      "text/plain": [
       "torch.Size([2, 3, 128, 128])"
      ]
     },
     "execution_count": 8,
     "metadata": {},
     "output_type": "execute_result"
    }
   ],
   "source": [
    "out2.shape"
   ]
  },
  {
   "cell_type": "code",
   "execution_count": 10,
   "metadata": {},
   "outputs": [],
   "source": [
    "from models.networks.vgg import Vgg16"
   ]
  },
  {
   "cell_type": "code",
   "execution_count": 11,
   "metadata": {},
   "outputs": [
    {
     "name": "stderr",
     "output_type": "stream",
     "text": [
      "Downloading: \"https://download.pytorch.org/models/vgg16-397923af.pth\" to /home/nghia/.cache/torch/checkpoints/vgg16-397923af.pth\n"
     ]
    },
    {
     "data": {
      "application/vnd.jupyter.widget-view+json": {
       "model_id": "cae309f9757448d38e4daf4bbd3a0dc9",
       "version_major": 2,
       "version_minor": 0
      },
      "text/plain": [
       "HBox(children=(FloatProgress(value=0.0, max=553433881.0), HTML(value='')))"
      ]
     },
     "metadata": {},
     "output_type": "display_data"
    },
    {
     "name": "stdout",
     "output_type": "stream",
     "text": [
      "\n"
     ]
    }
   ],
   "source": [
    "model_vgg16 = Vgg16()"
   ]
  },
  {
   "cell_type": "code",
   "execution_count": 12,
   "metadata": {},
   "outputs": [],
   "source": [
    "out3 = model_vgg16(inputs)"
   ]
  },
  {
   "cell_type": "code",
   "execution_count": 13,
   "metadata": {},
   "outputs": [],
   "source": [
    "model_vgg16 = model_vgg16.to(device)"
   ]
  },
  {
   "cell_type": "code",
   "execution_count": 15,
   "metadata": {},
   "outputs": [
    {
     "name": "stdout",
     "output_type": "stream",
     "text": [
      "----------------------------------------------------------------\n",
      "        Layer (type)               Output Shape         Param #\n",
      "================================================================\n",
      "            Conv2d-1         [-1, 64, 128, 128]           1,792\n",
      "              ReLU-2         [-1, 64, 128, 128]               0\n",
      "            Conv2d-3         [-1, 64, 128, 128]          36,928\n",
      "              ReLU-4         [-1, 64, 128, 128]               0\n",
      "         MaxPool2d-5           [-1, 64, 64, 64]               0\n",
      "            Conv2d-6          [-1, 128, 64, 64]          73,856\n",
      "              ReLU-7          [-1, 128, 64, 64]               0\n",
      "            Conv2d-8          [-1, 128, 64, 64]         147,584\n",
      "              ReLU-9          [-1, 128, 64, 64]               0\n",
      "        MaxPool2d-10          [-1, 128, 32, 32]               0\n",
      "           Conv2d-11          [-1, 256, 32, 32]         295,168\n",
      "             ReLU-12          [-1, 256, 32, 32]               0\n",
      "           Conv2d-13          [-1, 256, 32, 32]         590,080\n",
      "             ReLU-14          [-1, 256, 32, 32]               0\n",
      "           Conv2d-15          [-1, 256, 32, 32]         590,080\n",
      "             ReLU-16          [-1, 256, 32, 32]               0\n",
      "        MaxPool2d-17          [-1, 256, 16, 16]               0\n",
      "           Conv2d-18          [-1, 512, 16, 16]       1,180,160\n",
      "             ReLU-19          [-1, 512, 16, 16]               0\n",
      "           Conv2d-20          [-1, 512, 16, 16]       2,359,808\n",
      "             ReLU-21          [-1, 512, 16, 16]               0\n",
      "           Conv2d-22          [-1, 512, 16, 16]       2,359,808\n",
      "             ReLU-23          [-1, 512, 16, 16]               0\n",
      "================================================================\n",
      "Total params: 7,635,264\n",
      "Trainable params: 0\n",
      "Non-trainable params: 7,635,264\n",
      "----------------------------------------------------------------\n",
      "Input size (MB): 0.19\n",
      "Forward/backward pass size (MB): 69.50\n",
      "Params size (MB): 29.13\n",
      "Estimated Total Size (MB): 98.81\n",
      "----------------------------------------------------------------\n"
     ]
    }
   ],
   "source": [
    "summary(model_vgg16, input_shape)"
   ]
  },
  {
   "cell_type": "code",
   "execution_count": 3,
   "metadata": {},
   "outputs": [
    {
     "data": {
      "application/vnd.jupyter.widget-view+json": {
       "model_id": "984ff7b8ca9c4cd3b4034558dc908119",
       "version_major": 2,
       "version_minor": 0
      },
      "text/plain": [
       "HBox(children=(FloatProgress(value=0.0), HTML(value='')))"
      ]
     },
     "metadata": {},
     "output_type": "display_data"
    },
    {
     "name": "stdout",
     "output_type": "stream",
     "text": [
      "\n"
     ]
    }
   ],
   "source": [
    "import time\n",
    "# this doesn't work:\n",
    "from tqdm.autonotebook import tqdm\n",
    "for i in tqdm(range(100)):\n",
    "    time.sleep(0.01)"
   ]
  },
  {
   "cell_type": "code",
   "execution_count": 7,
   "metadata": {
    "collapsed": true,
    "jupyter": {
     "outputs_hidden": true
    }
   },
   "outputs": [
    {
     "name": "stdout",
     "output_type": "stream",
     "text": [
      "Vgg16(\n",
      "  (slice1): Sequential(\n",
      "    (0): Conv2d(3, 64, kernel_size=(3, 3), stride=(1, 1), padding=(1, 1))\n",
      "    (1): ReLU(inplace=True)\n",
      "    (2): Conv2d(64, 64, kernel_size=(3, 3), stride=(1, 1), padding=(1, 1))\n",
      "    (3): ReLU(inplace=True)\n",
      "  )\n",
      "  (slice2): Sequential(\n",
      "    (4): MaxPool2d(kernel_size=2, stride=2, padding=0, dilation=1, ceil_mode=False)\n",
      "    (5): Conv2d(64, 128, kernel_size=(3, 3), stride=(1, 1), padding=(1, 1))\n",
      "    (6): ReLU(inplace=True)\n",
      "    (7): Conv2d(128, 128, kernel_size=(3, 3), stride=(1, 1), padding=(1, 1))\n",
      "    (8): ReLU(inplace=True)\n",
      "  )\n",
      "  (slice3): Sequential(\n",
      "    (9): MaxPool2d(kernel_size=2, stride=2, padding=0, dilation=1, ceil_mode=False)\n",
      "    (10): Conv2d(128, 256, kernel_size=(3, 3), stride=(1, 1), padding=(1, 1))\n",
      "    (11): ReLU(inplace=True)\n",
      "    (12): Conv2d(256, 256, kernel_size=(3, 3), stride=(1, 1), padding=(1, 1))\n",
      "    (13): ReLU(inplace=True)\n",
      "    (14): Conv2d(256, 256, kernel_size=(3, 3), stride=(1, 1), padding=(1, 1))\n",
      "    (15): ReLU(inplace=True)\n",
      "  )\n",
      "  (slice4): Sequential(\n",
      "    (16): MaxPool2d(kernel_size=2, stride=2, padding=0, dilation=1, ceil_mode=False)\n",
      "    (17): Conv2d(256, 512, kernel_size=(3, 3), stride=(1, 1), padding=(1, 1))\n",
      "    (18): ReLU(inplace=True)\n",
      "    (19): Conv2d(512, 512, kernel_size=(3, 3), stride=(1, 1), padding=(1, 1))\n",
      "    (20): ReLU(inplace=True)\n",
      "    (21): Conv2d(512, 512, kernel_size=(3, 3), stride=(1, 1), padding=(1, 1))\n",
      "    (22): ReLU(inplace=True)\n",
      "  )\n",
      ")\n"
     ]
    }
   ],
   "source": [
    "print(model_vgg16)"
   ]
  },
  {
   "cell_type": "code",
   "execution_count": 12,
   "metadata": {},
   "outputs": [
    {
     "name": "stdout",
     "output_type": "stream",
     "text": [
      "torch.Size([2, 128, 64, 64])\n"
     ]
    }
   ],
   "source": [
    "print(out3.relu2_2.shape)"
   ]
  },
  {
   "cell_type": "code",
   "execution_count": null,
   "metadata": {},
   "outputs": [],
   "source": []
  },
  {
   "cell_type": "code",
   "execution_count": 13,
   "metadata": {},
   "outputs": [],
   "source": [
    "from models.networks.transformer_net1 import TransformerNet"
   ]
  },
  {
   "cell_type": "code",
   "execution_count": 14,
   "metadata": {},
   "outputs": [],
   "source": [
    "model_3 = TransformerNet()"
   ]
  },
  {
   "cell_type": "code",
   "execution_count": 16,
   "metadata": {
    "collapsed": true,
    "jupyter": {
     "outputs_hidden": true
    }
   },
   "outputs": [
    {
     "name": "stdout",
     "output_type": "stream",
     "text": [
      "TransformerNet(\n",
      "  (conv1): ConvLayer(\n",
      "    (reflection_pad): ReflectionPad2d((4, 4, 4, 4))\n",
      "    (conv2d): Conv2d(3, 32, kernel_size=(9, 9), stride=(1, 1))\n",
      "  )\n",
      "  (in1): InstanceNormalization()\n",
      "  (conv2): ConvLayer(\n",
      "    (reflection_pad): ReflectionPad2d((1, 1, 1, 1))\n",
      "    (conv2d): Conv2d(32, 64, kernel_size=(3, 3), stride=(2, 2))\n",
      "  )\n",
      "  (in2): InstanceNormalization()\n",
      "  (conv3): ConvLayer(\n",
      "    (reflection_pad): ReflectionPad2d((1, 1, 1, 1))\n",
      "    (conv2d): Conv2d(64, 128, kernel_size=(3, 3), stride=(2, 2))\n",
      "  )\n",
      "  (in3): InstanceNormalization()\n",
      "  (res1): ResidualBlock(\n",
      "    (conv1): ConvLayer(\n",
      "      (reflection_pad): ReflectionPad2d((1, 1, 1, 1))\n",
      "      (conv2d): Conv2d(128, 128, kernel_size=(3, 3), stride=(1, 1))\n",
      "    )\n",
      "    (in1): InstanceNormalization()\n",
      "    (conv2): ConvLayer(\n",
      "      (reflection_pad): ReflectionPad2d((1, 1, 1, 1))\n",
      "      (conv2d): Conv2d(128, 128, kernel_size=(3, 3), stride=(1, 1))\n",
      "    )\n",
      "    (in2): InstanceNormalization()\n",
      "    (relu): ReLU()\n",
      "  )\n",
      "  (res2): ResidualBlock(\n",
      "    (conv1): ConvLayer(\n",
      "      (reflection_pad): ReflectionPad2d((1, 1, 1, 1))\n",
      "      (conv2d): Conv2d(128, 128, kernel_size=(3, 3), stride=(1, 1))\n",
      "    )\n",
      "    (in1): InstanceNormalization()\n",
      "    (conv2): ConvLayer(\n",
      "      (reflection_pad): ReflectionPad2d((1, 1, 1, 1))\n",
      "      (conv2d): Conv2d(128, 128, kernel_size=(3, 3), stride=(1, 1))\n",
      "    )\n",
      "    (in2): InstanceNormalization()\n",
      "    (relu): ReLU()\n",
      "  )\n",
      "  (res3): ResidualBlock(\n",
      "    (conv1): ConvLayer(\n",
      "      (reflection_pad): ReflectionPad2d((1, 1, 1, 1))\n",
      "      (conv2d): Conv2d(128, 128, kernel_size=(3, 3), stride=(1, 1))\n",
      "    )\n",
      "    (in1): InstanceNormalization()\n",
      "    (conv2): ConvLayer(\n",
      "      (reflection_pad): ReflectionPad2d((1, 1, 1, 1))\n",
      "      (conv2d): Conv2d(128, 128, kernel_size=(3, 3), stride=(1, 1))\n",
      "    )\n",
      "    (in2): InstanceNormalization()\n",
      "    (relu): ReLU()\n",
      "  )\n",
      "  (res4): ResidualBlock(\n",
      "    (conv1): ConvLayer(\n",
      "      (reflection_pad): ReflectionPad2d((1, 1, 1, 1))\n",
      "      (conv2d): Conv2d(128, 128, kernel_size=(3, 3), stride=(1, 1))\n",
      "    )\n",
      "    (in1): InstanceNormalization()\n",
      "    (conv2): ConvLayer(\n",
      "      (reflection_pad): ReflectionPad2d((1, 1, 1, 1))\n",
      "      (conv2d): Conv2d(128, 128, kernel_size=(3, 3), stride=(1, 1))\n",
      "    )\n",
      "    (in2): InstanceNormalization()\n",
      "    (relu): ReLU()\n",
      "  )\n",
      "  (res5): ResidualBlock(\n",
      "    (conv1): ConvLayer(\n",
      "      (reflection_pad): ReflectionPad2d((1, 1, 1, 1))\n",
      "      (conv2d): Conv2d(128, 128, kernel_size=(3, 3), stride=(1, 1))\n",
      "    )\n",
      "    (in1): InstanceNormalization()\n",
      "    (conv2): ConvLayer(\n",
      "      (reflection_pad): ReflectionPad2d((1, 1, 1, 1))\n",
      "      (conv2d): Conv2d(128, 128, kernel_size=(3, 3), stride=(1, 1))\n",
      "    )\n",
      "    (in2): InstanceNormalization()\n",
      "    (relu): ReLU()\n",
      "  )\n",
      "  (deconv1): UpsampleConvLayer(\n",
      "    (upsample_layer): Upsample(scale_factor=2.0, mode=nearest)\n",
      "    (reflection_pad): ReflectionPad2d((1, 1, 1, 1))\n",
      "    (conv2d): Conv2d(128, 64, kernel_size=(3, 3), stride=(1, 1))\n",
      "  )\n",
      "  (in4): InstanceNormalization()\n",
      "  (deconv2): UpsampleConvLayer(\n",
      "    (upsample_layer): Upsample(scale_factor=2.0, mode=nearest)\n",
      "    (reflection_pad): ReflectionPad2d((1, 1, 1, 1))\n",
      "    (conv2d): Conv2d(64, 32, kernel_size=(3, 3), stride=(1, 1))\n",
      "  )\n",
      "  (in5): InstanceNormalization()\n",
      "  (deconv3): ConvLayer(\n",
      "    (reflection_pad): ReflectionPad2d((4, 4, 4, 4))\n",
      "    (conv2d): Conv2d(32, 3, kernel_size=(9, 9), stride=(1, 1))\n",
      "  )\n",
      "  (relu): ReLU()\n",
      ")\n"
     ]
    }
   ],
   "source": [
    "print(model_3)"
   ]
  },
  {
   "cell_type": "code",
   "execution_count": 17,
   "metadata": {},
   "outputs": [],
   "source": [
    "out3 = model_3(inputs)"
   ]
  },
  {
   "cell_type": "code",
   "execution_count": 18,
   "metadata": {},
   "outputs": [
    {
     "data": {
      "text/plain": [
       "torch.Size([2, 3, 128, 128])"
      ]
     },
     "execution_count": 18,
     "metadata": {},
     "output_type": "execute_result"
    }
   ],
   "source": [
    "out3.shape"
   ]
  },
  {
   "cell_type": "code",
   "execution_count": 20,
   "metadata": {},
   "outputs": [],
   "source": [
    "from models.networks.transformer import TransformerNetwork"
   ]
  },
  {
   "cell_type": "code",
   "execution_count": 21,
   "metadata": {},
   "outputs": [],
   "source": [
    "model_4 = TransformerNetwork()"
   ]
  },
  {
   "cell_type": "code",
   "execution_count": 22,
   "metadata": {
    "collapsed": true,
    "jupyter": {
     "outputs_hidden": true
    }
   },
   "outputs": [
    {
     "name": "stdout",
     "output_type": "stream",
     "text": [
      "TransformerNetwork(\n",
      "  (ConvBlock): Sequential(\n",
      "    (0): ConvLayer(\n",
      "      (reflection_pad): ReflectionPad2d((4, 4, 4, 4))\n",
      "      (conv_layer): Conv2d(3, 32, kernel_size=(9, 9), stride=(1, 1))\n",
      "      (norm_layer): InstanceNorm2d(32, eps=1e-05, momentum=0.1, affine=True, track_running_stats=False)\n",
      "    )\n",
      "    (1): ReLU()\n",
      "    (2): ConvLayer(\n",
      "      (reflection_pad): ReflectionPad2d((1, 1, 1, 1))\n",
      "      (conv_layer): Conv2d(32, 64, kernel_size=(3, 3), stride=(2, 2))\n",
      "      (norm_layer): InstanceNorm2d(64, eps=1e-05, momentum=0.1, affine=True, track_running_stats=False)\n",
      "    )\n",
      "    (3): ReLU()\n",
      "    (4): ConvLayer(\n",
      "      (reflection_pad): ReflectionPad2d((1, 1, 1, 1))\n",
      "      (conv_layer): Conv2d(64, 128, kernel_size=(3, 3), stride=(2, 2))\n",
      "      (norm_layer): InstanceNorm2d(128, eps=1e-05, momentum=0.1, affine=True, track_running_stats=False)\n",
      "    )\n",
      "    (5): ReLU()\n",
      "  )\n",
      "  (ResidualBlock): Sequential(\n",
      "    (0): ResidualLayer(\n",
      "      (conv1): ConvLayer(\n",
      "        (reflection_pad): ReflectionPad2d((1, 1, 1, 1))\n",
      "        (conv_layer): Conv2d(128, 128, kernel_size=(3, 3), stride=(1, 1))\n",
      "        (norm_layer): InstanceNorm2d(128, eps=1e-05, momentum=0.1, affine=True, track_running_stats=False)\n",
      "      )\n",
      "      (relu): ReLU()\n",
      "      (conv2): ConvLayer(\n",
      "        (reflection_pad): ReflectionPad2d((1, 1, 1, 1))\n",
      "        (conv_layer): Conv2d(128, 128, kernel_size=(3, 3), stride=(1, 1))\n",
      "        (norm_layer): InstanceNorm2d(128, eps=1e-05, momentum=0.1, affine=True, track_running_stats=False)\n",
      "      )\n",
      "    )\n",
      "    (1): ResidualLayer(\n",
      "      (conv1): ConvLayer(\n",
      "        (reflection_pad): ReflectionPad2d((1, 1, 1, 1))\n",
      "        (conv_layer): Conv2d(128, 128, kernel_size=(3, 3), stride=(1, 1))\n",
      "        (norm_layer): InstanceNorm2d(128, eps=1e-05, momentum=0.1, affine=True, track_running_stats=False)\n",
      "      )\n",
      "      (relu): ReLU()\n",
      "      (conv2): ConvLayer(\n",
      "        (reflection_pad): ReflectionPad2d((1, 1, 1, 1))\n",
      "        (conv_layer): Conv2d(128, 128, kernel_size=(3, 3), stride=(1, 1))\n",
      "        (norm_layer): InstanceNorm2d(128, eps=1e-05, momentum=0.1, affine=True, track_running_stats=False)\n",
      "      )\n",
      "    )\n",
      "    (2): ResidualLayer(\n",
      "      (conv1): ConvLayer(\n",
      "        (reflection_pad): ReflectionPad2d((1, 1, 1, 1))\n",
      "        (conv_layer): Conv2d(128, 128, kernel_size=(3, 3), stride=(1, 1))\n",
      "        (norm_layer): InstanceNorm2d(128, eps=1e-05, momentum=0.1, affine=True, track_running_stats=False)\n",
      "      )\n",
      "      (relu): ReLU()\n",
      "      (conv2): ConvLayer(\n",
      "        (reflection_pad): ReflectionPad2d((1, 1, 1, 1))\n",
      "        (conv_layer): Conv2d(128, 128, kernel_size=(3, 3), stride=(1, 1))\n",
      "        (norm_layer): InstanceNorm2d(128, eps=1e-05, momentum=0.1, affine=True, track_running_stats=False)\n",
      "      )\n",
      "    )\n",
      "    (3): ResidualLayer(\n",
      "      (conv1): ConvLayer(\n",
      "        (reflection_pad): ReflectionPad2d((1, 1, 1, 1))\n",
      "        (conv_layer): Conv2d(128, 128, kernel_size=(3, 3), stride=(1, 1))\n",
      "        (norm_layer): InstanceNorm2d(128, eps=1e-05, momentum=0.1, affine=True, track_running_stats=False)\n",
      "      )\n",
      "      (relu): ReLU()\n",
      "      (conv2): ConvLayer(\n",
      "        (reflection_pad): ReflectionPad2d((1, 1, 1, 1))\n",
      "        (conv_layer): Conv2d(128, 128, kernel_size=(3, 3), stride=(1, 1))\n",
      "        (norm_layer): InstanceNorm2d(128, eps=1e-05, momentum=0.1, affine=True, track_running_stats=False)\n",
      "      )\n",
      "    )\n",
      "    (4): ResidualLayer(\n",
      "      (conv1): ConvLayer(\n",
      "        (reflection_pad): ReflectionPad2d((1, 1, 1, 1))\n",
      "        (conv_layer): Conv2d(128, 128, kernel_size=(3, 3), stride=(1, 1))\n",
      "        (norm_layer): InstanceNorm2d(128, eps=1e-05, momentum=0.1, affine=True, track_running_stats=False)\n",
      "      )\n",
      "      (relu): ReLU()\n",
      "      (conv2): ConvLayer(\n",
      "        (reflection_pad): ReflectionPad2d((1, 1, 1, 1))\n",
      "        (conv_layer): Conv2d(128, 128, kernel_size=(3, 3), stride=(1, 1))\n",
      "        (norm_layer): InstanceNorm2d(128, eps=1e-05, momentum=0.1, affine=True, track_running_stats=False)\n",
      "      )\n",
      "    )\n",
      "  )\n",
      "  (DeconvBlock): Sequential(\n",
      "    (0): DeconvLayer(\n",
      "      (conv_transpose): ConvTranspose2d(128, 64, kernel_size=(3, 3), stride=(2, 2), padding=(1, 1), output_padding=(1, 1))\n",
      "      (norm_layer): InstanceNorm2d(64, eps=1e-05, momentum=0.1, affine=True, track_running_stats=False)\n",
      "    )\n",
      "    (1): ReLU()\n",
      "    (2): DeconvLayer(\n",
      "      (conv_transpose): ConvTranspose2d(64, 32, kernel_size=(3, 3), stride=(2, 2), padding=(1, 1), output_padding=(1, 1))\n",
      "      (norm_layer): InstanceNorm2d(32, eps=1e-05, momentum=0.1, affine=True, track_running_stats=False)\n",
      "    )\n",
      "    (3): ReLU()\n",
      "    (4): ConvLayer(\n",
      "      (reflection_pad): ReflectionPad2d((4, 4, 4, 4))\n",
      "      (conv_layer): Conv2d(32, 3, kernel_size=(9, 9), stride=(1, 1))\n",
      "    )\n",
      "  )\n",
      ")\n"
     ]
    }
   ],
   "source": [
    "print(model_4)"
   ]
  },
  {
   "cell_type": "code",
   "execution_count": 23,
   "metadata": {},
   "outputs": [],
   "source": [
    "out4 = model_4(inputs)"
   ]
  },
  {
   "cell_type": "code",
   "execution_count": 24,
   "metadata": {},
   "outputs": [
    {
     "data": {
      "text/plain": [
       "torch.Size([2, 3, 128, 128])"
      ]
     },
     "execution_count": 24,
     "metadata": {},
     "output_type": "execute_result"
    }
   ],
   "source": [
    "out4.shape"
   ]
  },
  {
   "cell_type": "code",
   "execution_count": null,
   "metadata": {},
   "outputs": [],
   "source": []
  }
 ],
 "metadata": {
  "kernelspec": {
   "display_name": "Python 3",
   "language": "python",
   "name": "python3"
  },
  "language_info": {
   "codemirror_mode": {
    "name": "ipython",
    "version": 3
   },
   "file_extension": ".py",
   "mimetype": "text/x-python",
   "name": "python",
   "nbconvert_exporter": "python",
   "pygments_lexer": "ipython3",
   "version": "3.7.4"
  }
 },
 "nbformat": 4,
 "nbformat_minor": 4
}
