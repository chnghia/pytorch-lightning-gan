{
 "cells": [
  {
   "cell_type": "code",
   "execution_count": null,
   "metadata": {},
   "outputs": [],
   "source": [
    "%matplotlib inline\n",
    "import matplotlib.pyplot as plt\n",
    "from mpl_toolkits.mplot3d import Axes3D\n",
    "import matplotlib.cm as cm\n",
    "from sklearn.manifold import TSNE\n",
    "import numpy as np\n",
    "import pickle\n",
    "\n",
    "      \n",
    "epoch = 20\n",
    "exp = 'cifar10'\n",
    "exp = 'MNIST'\n",
    "\n",
    "N = 6000 # image number\n",
    "\n",
    "y_train = np.load('./results_{}/y_{}_train_epoch{}.npy'.format(exp, exp, epoch))\n",
    "z_train = np.load('./results_{}/z_{}_train_epoch{}.npy'.format(exp, exp, epoch))\n",
    "classes = ['plane', 'car', 'bird', 'cat', 'deer', 'dog', 'frog', 'horse', 'ship', 'truck']  # cifar10\n",
    "# classes = np.arange(10) #MNIST"
   ]
  },
  {
   "cell_type": "markdown",
   "metadata": {},
   "source": [
    "## Direct projection of latent space"
   ]
  },
  {
   "cell_type": "code",
   "execution_count": null,
   "metadata": {},
   "outputs": [],
   "source": [
    "y_train = y_train[:N]\n",
    "z_train = z_train[:N]\n",
    "\n",
    "fig = plt.figure(figsize=(12, 10))\n",
    "plots = []\n",
    "markers = ['o', ',', 'x', '+', 'v', '^', '<', '>', 's', 'd']\n",
    "for i, c in enumerate(classes):\n",
    "    ind = (y_train == i).tolist() or ([j < N // len(classes) for j in range(len(y_train))])\n",
    "    color = cm.jet([i / len(classes)] * sum(ind))\n",
    "    plots.append(plt.scatter(z_train[ind, 1], z_train[ind, 2], marker=markers[i], c=color, s=8, label=i))\n",
    "\n",
    "plt.axis('off')\n",
    "plt.legend(plots, classes, fontsize=14, loc='upper right')\n",
    "plt.title('{} (direct projection: {}-dim -> 2-dim)'.format(exp, z_train.shape[1]), fontsize=14)\n",
    "plt.savefig(\"./ResNetVAE_{}_direct_plot.png\".format(exp), bbox_inches='tight', dpi=600)\n",
    "plt.show()"
   ]
  },
  {
   "cell_type": "markdown",
   "metadata": {},
   "source": [
    "## Use t-SNE for dimension reduction"
   ]
  },
  {
   "cell_type": "markdown",
   "metadata": {},
   "source": [
    "### compressed to 2-dimension"
   ]
  },
  {
   "cell_type": "code",
   "execution_count": null,
   "metadata": {},
   "outputs": [],
   "source": [
    "z_embed = TSNE(n_components=2, n_iter=12000).fit_transform(z_train[:N])"
   ]
  },
  {
   "cell_type": "code",
   "execution_count": null,
   "metadata": {},
   "outputs": [],
   "source": [
    "fig = plt.figure(figsize=(12, 10))\n",
    "plots = []\n",
    "markers = ['o', ',', 'x', '+', 'v', '^', '<', '>', 's', 'd']  # select different markers\n",
    "for i, c in enumerate(classes):\n",
    "    ind = (y_train[:N] == i).tolist()\n",
    "    color = cm.jet([i / len(classes)] * sum(ind))\n",
    "    # plot each category one at a time \n",
    "    plots.append(plt.scatter(z_embed[ind, 0], z_embed[ind, 1], c=color, marker=markers[i], s=8, label=i))\n",
    "\n",
    "plt.axis('off')\n",
    "plt.xlim(-150, 150)\n",
    "plt.ylim(-150, 150)\n",
    "plt.legend(plots, classes, fontsize=14, loc='upper right')\n",
    "plt.title('{} (t-SNE: {}-dim -> 2-dim)'.format(exp, z_train.shape[1]), fontsize=14)\n",
    "plt.savefig(\"./ResNetVAE_{}_embedded_plot.png\".format(exp), bbox_inches='tight', dpi=600)\n",
    "plt.show()"
   ]
  },
  {
   "cell_type": "markdown",
   "metadata": {},
   "source": [
    "### compressed to 3-dimension"
   ]
  },
  {
   "cell_type": "code",
   "execution_count": null,
   "metadata": {},
   "outputs": [],
   "source": [
    "z_embed3D = TSNE(n_components=3, n_iter=12000).fit_transform(z_train[:N])"
   ]
  },
  {
   "cell_type": "code",
   "execution_count": null,
   "metadata": {},
   "outputs": [],
   "source": [
    "fig = plt.figure(figsize=(12, 10))\n",
    "ax = fig.add_subplot(111, projection='3d')\n",
    "\n",
    "plots = []\n",
    "markers = ['o', ',', 'x', '+', 'v', '^', '<', '>', 's', 'd']  # select different markers\n",
    "for i, c in enumerate(classes):\n",
    "    ind = (y_train[:N] == i).tolist()\n",
    "    color = cm.jet([i / len(classes)] * sum(ind))\n",
    "    # plot each category one at a time \n",
    "    ax.scatter(z_embed3D[ind, 0], z_embed3D[ind, 1], c=color, marker=markers[i], s=8, label=i)\n",
    "\n",
    "ax.axis('on')\n",
    "\n",
    "r_max = 20\n",
    "r_min = -r_max\n",
    "\n",
    "ax.set_xlim(r_min, r_max)\n",
    "ax.set_ylim(r_min, r_max)\n",
    "ax.set_zlim(r_min, r_max)\n",
    "ax.set_xlabel('z-dim 1')\n",
    "ax.set_ylabel('z-dim 2')\n",
    "ax.set_zlabel('z-dim 3')\n",
    "ax.set_title('{} (t-SNE: {}-dim -> 3-dim)'.format(exp, z_train.shape[1]), fontsize=14)\n",
    "ax.legend(plots, classes, fontsize=14, loc='upper right')\n",
    "plt.savefig(\"./ResNetVAE_{}_embedded_3Dplot.png\".format(exp), bbox_inches='tight', dpi=600)\n",
    "plt.show()"
   ]
  },
  {
   "cell_type": "code",
   "execution_count": null,
   "metadata": {},
   "outputs": [],
   "source": []
  },
  {
   "cell_type": "code",
   "execution_count": null,
   "metadata": {},
   "outputs": [],
   "source": []
  }
 ],
 "metadata": {
  "kernelspec": {
   "display_name": "Python 3",
   "language": "python",
   "name": "python3"
  },
  "language_info": {
   "codemirror_mode": {
    "name": "ipython",
    "version": 3
   },
   "file_extension": ".py",
   "mimetype": "text/x-python",
   "name": "python",
   "nbconvert_exporter": "python",
   "pygments_lexer": "ipython3",
   "version": "3.7.4"
  }
 },
 "nbformat": 4,
 "nbformat_minor": 4
}
