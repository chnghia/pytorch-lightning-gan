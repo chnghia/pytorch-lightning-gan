{
 "cells": [
  {
   "cell_type": "code",
   "execution_count": 6,
   "metadata": {},
   "outputs": [
    {
     "data": {
      "application/javascript": [
       "require.undef('media');\n",
       "\n",
       "define('media', [\"@jupyter-widgets/base\"], function(widgets) {\n",
       "    var MediaModel = widgets.DOMWidgetModel.extend({\n",
       "        defaults: _.extend({}, widgets.DOMWidgetModel.prototype.defaults, {\n",
       "            _model_name: 'MediaModel',\n",
       "            _view_name: 'MediaView',\n",
       "            audio: false,\n",
       "            video: true\n",
       "        }),\n",
       "        initialize: function() {\n",
       "            // Get the camera permissions\n",
       "            this.stream = navigator.mediaDevices.getUserMedia({audio: false, video: true});\n",
       "            this.stream.then(function(stream) {\n",
       "                window.stream = stream\n",
       "            })\n",
       "        }\n",
       "    });\n",
       "\n",
       "    var MediaView = widgets.DOMWidgetView.extend({\n",
       "\n",
       "        initialize: function() {\n",
       "            var el = document.createElement('video')\n",
       "            window.last_media_view = this;\n",
       "            el.setAttribute('width', 320)\n",
       "            el.setAttribute('height', 240)\n",
       "            this.setElement(el);\n",
       "            MediaView.__super__.initialize.apply(this, arguments);\n",
       "        },\n",
       "\n",
       "        render: function() {\n",
       "            var that = this;\n",
       "            that.model.stream.then(function(stream) {\n",
       "                that.el.src = window.URL.createObjectURL(stream);\n",
       "                that.el.play()\n",
       "            })\n",
       "        }\n",
       "\n",
       "    });\n",
       "\n",
       "    return {\n",
       "        MediaModel: MediaModel,\n",
       "        MediaView: MediaView\n",
       "    }\n",
       "});\n",
       "require(['media'])\n"
      ],
      "text/plain": [
       "<IPython.core.display.Javascript object>"
      ]
     },
     "metadata": {},
     "output_type": "display_data"
    }
   ],
   "source": [
    "from ipywebrtc import CameraStream, ImageRecorder, VideoRecorder, AudioRecorder"
   ]
  },
  {
   "cell_type": "code",
   "execution_count": 7,
   "metadata": {},
   "outputs": [],
   "source": [
    "camera = CameraStream(constraints=\n",
    "                      {'facing_mode': 'user',\n",
    "                       'audio': False,\n",
    "                       'video': { 'width': 640, 'height': 480 }\n",
    "                       })\n",
    "camera"
   ]
  },
  {
   "cell_type": "code",
   "execution_count": 8,
   "metadata": {},
   "outputs": [],
   "source": []
  },
  {
   "cell_type": "code",
   "execution_count": 9,
   "metadata": {},
   "outputs": [
    {
     "data": {
      "application/vnd.jupyter.widget-view+json": {
       "model_id": "a4b6bf9c28374cd18f65209d6d089eac",
       "version_major": 2,
       "version_minor": 0
      },
      "text/plain": [
       "Media()"
      ]
     },
     "metadata": {},
     "output_type": "display_data"
    }
   ],
   "source": []
  },
  {
   "cell_type": "code",
   "execution_count": null,
   "metadata": {},
   "outputs": [],
   "source": []
  },
  {
   "cell_type": "code",
   "execution_count": null,
   "metadata": {},
   "outputs": [],
   "source": []
  }
 ],
 "metadata": {
  "kernelspec": {
   "display_name": "Python 3",
   "language": "python",
   "name": "python3"
  },
  "language_info": {
   "codemirror_mode": {
    "name": "ipython",
    "version": 3
   },
   "file_extension": ".py",
   "mimetype": "text/x-python",
   "name": "python",
   "nbconvert_exporter": "python",
   "pygments_lexer": "ipython3",
   "version": "3.7.4"
  }
 },
 "nbformat": 4,
 "nbformat_minor": 4
}
